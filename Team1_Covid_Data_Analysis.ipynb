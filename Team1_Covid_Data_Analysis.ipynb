{
 "cells": [
  {
   "cell_type": "markdown",
   "id": "602e4a17",
   "metadata": {},
   "source": [
    "# COVID DATA ANALYSIS"
   ]
  },
  {
   "cell_type": "markdown",
   "id": "dd3f3bf9",
   "metadata": {},
   "source": [
    "## TEAM 1: IGUANODON\n",
    "\n",
    "## MEMBERS\n",
    "\n",
    "- Ranjani Anjur Venkatraman(PM)\n",
    "- Sharon Colson\n",
    "- Cody Gardner"
   ]
  },
  {
   "cell_type": "markdown",
   "id": "94c32e1d",
   "metadata": {},
   "source": [
    "## INTRODUCTION\n",
    "\n",
    "Analyzing recent covid data for multiple countries across the world"
   ]
  },
  {
   "cell_type": "markdown",
   "id": "a0452b88",
   "metadata": {},
   "source": [
    "## DATA\n",
    "\n",
    "We retrieved the covid data from below three API's:\n",
    "\n",
    "#### - Historical API : \n",
    "Using Historical API retrieved 30 days data of Cases, Deaths, and Recovered for mutiple countries across world\n",
    "\n",
    "Link : https://disease.sh/v3/covid-19/historical/\n",
    "\n",
    "#### - Vaccination API :\n",
    "Using Vaccination API retrieved vaccination information for mutiple countries across world\n",
    "\n",
    "Link : https://disease.sh/v3/covid-19/vaccine/coverage/countries?lastdays=1\n",
    "\n",
    "#### - Daily data API : \n",
    "Using Daily data API retrieved present day covid information\n",
    "\n",
    "Link : https://disease.sh/v3/covid-19/countries/"
   ]
  },
  {
   "cell_type": "markdown",
   "id": "8210ff8b",
   "metadata": {},
   "source": [
    "## CODING"
   ]
  },
  {
   "cell_type": "code",
   "execution_count": 1,
   "id": "f32d9a2d",
   "metadata": {},
   "outputs": [],
   "source": [
    "# Import Statements\n",
    "\n",
    "import requests\n",
    "import json\n",
    "import pandas as pd\n",
    "import numpy as np\n",
    "import matplotlib.pyplot as plt\n",
    "from pprint import pprint\n",
    "from datetime import datetime, date\n"
   ]
  },
  {
   "cell_type": "markdown",
   "id": "23df5da0",
   "metadata": {},
   "source": [
    "## DATA RETRIEVAL, MANIPULATION AND CLEANING"
   ]
  },
  {
   "cell_type": "code",
   "execution_count": 2,
   "id": "98a1e4e9",
   "metadata": {},
   "outputs": [],
   "source": [
    "# Retrieving historical vaccination data for multiple countries\n",
    "\n",
    "vaccination = requests.get(\"https://disease.sh/v3/covid-19/vaccine/coverage/countries?lastdays=30\").json()\n"
   ]
  },
  {
   "cell_type": "code",
   "execution_count": 3,
   "id": "c0996eba",
   "metadata": {},
   "outputs": [],
   "source": [
    "vaccine_days = []\n",
    "\n",
    "vaccine_keys = vaccination[0][\"timeline\"].keys()\n",
    "\n",
    "for value in vaccine_keys:\n",
    "    vaccine_days.append(value)\n",
    "\n"
   ]
  },
  {
   "cell_type": "code",
   "execution_count": 4,
   "id": "98859d1e",
   "metadata": {},
   "outputs": [],
   "source": [
    "country = []\n",
    "vaccine =[]\n",
    "v_date = []\n",
    "for i in range(len(vaccination)): \n",
    "       \n",
    "    \n",
    "    for j in vaccine_days:\n",
    "        \n",
    "        try:\n",
    "             \n",
    "            vaccine.append(vaccination[i][\"timeline\"][j])\n",
    "            country.append(vaccination[i][\"country\"])\n",
    "            v_date.append(j)\n",
    "        except:\n",
    "            pass\n",
    "\n"
   ]
  },
  {
   "cell_type": "code",
   "execution_count": 5,
   "id": "054b43c6",
   "metadata": {},
   "outputs": [
    {
     "data": {
      "text/html": [
       "<div>\n",
       "<style scoped>\n",
       "    .dataframe tbody tr th:only-of-type {\n",
       "        vertical-align: middle;\n",
       "    }\n",
       "\n",
       "    .dataframe tbody tr th {\n",
       "        vertical-align: top;\n",
       "    }\n",
       "\n",
       "    .dataframe thead th {\n",
       "        text-align: right;\n",
       "    }\n",
       "</style>\n",
       "<table border=\"1\" class=\"dataframe\">\n",
       "  <thead>\n",
       "    <tr style=\"text-align: right;\">\n",
       "      <th></th>\n",
       "      <th>Country</th>\n",
       "      <th>Date</th>\n",
       "      <th>Vaccination_count</th>\n",
       "    </tr>\n",
       "  </thead>\n",
       "  <tbody>\n",
       "    <tr>\n",
       "      <th>0</th>\n",
       "      <td>Afghanistan</td>\n",
       "      <td>7/5/21</td>\n",
       "      <td>915671</td>\n",
       "    </tr>\n",
       "    <tr>\n",
       "      <th>1</th>\n",
       "      <td>Afghanistan</td>\n",
       "      <td>7/6/21</td>\n",
       "      <td>923566</td>\n",
       "    </tr>\n",
       "  </tbody>\n",
       "</table>\n",
       "</div>"
      ],
      "text/plain": [
       "       Country    Date  Vaccination_count\n",
       "0  Afghanistan  7/5/21             915671\n",
       "1  Afghanistan  7/6/21             923566"
      ]
     },
     "execution_count": 5,
     "metadata": {},
     "output_type": "execute_result"
    }
   ],
   "source": [
    "# Historical vaccination dataframe\n",
    "\n",
    "world_vaccination_df = pd.DataFrame({\n",
    "                                \"Country\" : country,\n",
    "                                \"Date\" : v_date,\n",
    "                                \"Vaccination_count\" : vaccine\n",
    "    \n",
    "})\n",
    "\n",
    "world_vaccination_df.head(2)"
   ]
  },
  {
   "cell_type": "code",
   "execution_count": 6,
   "id": "02d3e731",
   "metadata": {},
   "outputs": [],
   "source": [
    "# Retrieving historical Cases, Deaths and Recoverd data for multiple countries\n",
    "\n",
    "world_data = requests.get(\"https://disease.sh/v3/covid-19/historical/\").json()\n"
   ]
  },
  {
   "cell_type": "code",
   "execution_count": 7,
   "id": "5d52987a",
   "metadata": {},
   "outputs": [],
   "source": [
    "world_days = []\n",
    "\n",
    "world_keys = world_data[0][\"timeline\"]['cases'].keys()\n",
    "\n",
    "for value in world_keys:\n",
    "    world_days.append(value)\n",
    "\n",
    "#world_days"
   ]
  },
  {
   "cell_type": "code",
   "execution_count": 8,
   "id": "5c1194c2",
   "metadata": {},
   "outputs": [],
   "source": [
    "country = []\n",
    "cases =[]\n",
    "deaths = []\n",
    "recovered = []\n",
    "w_date = []\n",
    "for i in range(len(world_data)): \n",
    "       \n",
    "    \n",
    "    for j in world_days:\n",
    "        \n",
    "        try:\n",
    "             \n",
    "            cases.append(world_data[i]['timeline']['cases'][j])\n",
    "            deaths.append(world_data[i]['timeline']['deaths'][j])\n",
    "            recovered.append(world_data[i]['timeline']['recovered'][j])\n",
    "            country.append(world_data[i][\"country\"])\n",
    "            w_date.append(j)\n",
    "        except:\n",
    "            pass\n",
    "\n"
   ]
  },
  {
   "cell_type": "code",
   "execution_count": 9,
   "id": "87ba242c",
   "metadata": {},
   "outputs": [
    {
     "data": {
      "text/html": [
       "<div>\n",
       "<style scoped>\n",
       "    .dataframe tbody tr th:only-of-type {\n",
       "        vertical-align: middle;\n",
       "    }\n",
       "\n",
       "    .dataframe tbody tr th {\n",
       "        vertical-align: top;\n",
       "    }\n",
       "\n",
       "    .dataframe thead th {\n",
       "        text-align: right;\n",
       "    }\n",
       "</style>\n",
       "<table border=\"1\" class=\"dataframe\">\n",
       "  <thead>\n",
       "    <tr style=\"text-align: right;\">\n",
       "      <th></th>\n",
       "      <th>Country</th>\n",
       "      <th>Date</th>\n",
       "      <th>Cases</th>\n",
       "      <th>Deaths</th>\n",
       "      <th>Recovered</th>\n",
       "    </tr>\n",
       "  </thead>\n",
       "  <tbody>\n",
       "    <tr>\n",
       "      <th>0</th>\n",
       "      <td>Afghanistan</td>\n",
       "      <td>7/4/21</td>\n",
       "      <td>120216</td>\n",
       "      <td>4962</td>\n",
       "      <td>74480</td>\n",
       "    </tr>\n",
       "    <tr>\n",
       "      <th>1</th>\n",
       "      <td>Afghanistan</td>\n",
       "      <td>7/5/21</td>\n",
       "      <td>125937</td>\n",
       "      <td>5283</td>\n",
       "      <td>75314</td>\n",
       "    </tr>\n",
       "    <tr>\n",
       "      <th>2</th>\n",
       "      <td>Afghanistan</td>\n",
       "      <td>7/6/21</td>\n",
       "      <td>127464</td>\n",
       "      <td>5360</td>\n",
       "      <td>76218</td>\n",
       "    </tr>\n",
       "    <tr>\n",
       "      <th>3</th>\n",
       "      <td>Afghanistan</td>\n",
       "      <td>7/7/21</td>\n",
       "      <td>129021</td>\n",
       "      <td>5415</td>\n",
       "      <td>77280</td>\n",
       "    </tr>\n",
       "    <tr>\n",
       "      <th>4</th>\n",
       "      <td>Afghanistan</td>\n",
       "      <td>7/8/21</td>\n",
       "      <td>130113</td>\n",
       "      <td>5477</td>\n",
       "      <td>78521</td>\n",
       "    </tr>\n",
       "  </tbody>\n",
       "</table>\n",
       "</div>"
      ],
      "text/plain": [
       "       Country    Date   Cases  Deaths  Recovered\n",
       "0  Afghanistan  7/4/21  120216    4962      74480\n",
       "1  Afghanistan  7/5/21  125937    5283      75314\n",
       "2  Afghanistan  7/6/21  127464    5360      76218\n",
       "3  Afghanistan  7/7/21  129021    5415      77280\n",
       "4  Afghanistan  7/8/21  130113    5477      78521"
      ]
     },
     "execution_count": 9,
     "metadata": {},
     "output_type": "execute_result"
    }
   ],
   "source": [
    "# Historical world covid dataframe\n",
    "\n",
    "world_covid_df = pd.DataFrame({\n",
    "                              \n",
    "                            \n",
    "                                \"Country\" : country,\n",
    "                                \"Date\" : w_date,\n",
    "                                \"Cases\" : cases,\n",
    "                                \"Deaths\" : deaths,\n",
    "                                \"Recovered\" : recovered\n",
    "                                \n",
    "    \n",
    "})\n",
    "\n",
    "world_covid_df.head(5)"
   ]
  },
  {
   "cell_type": "code",
   "execution_count": 10,
   "id": "34d38116",
   "metadata": {},
   "outputs": [
    {
     "data": {
      "text/html": [
       "<div>\n",
       "<style scoped>\n",
       "    .dataframe tbody tr th:only-of-type {\n",
       "        vertical-align: middle;\n",
       "    }\n",
       "\n",
       "    .dataframe tbody tr th {\n",
       "        vertical-align: top;\n",
       "    }\n",
       "\n",
       "    .dataframe thead th {\n",
       "        text-align: right;\n",
       "    }\n",
       "</style>\n",
       "<table border=\"1\" class=\"dataframe\">\n",
       "  <thead>\n",
       "    <tr style=\"text-align: right;\">\n",
       "      <th></th>\n",
       "      <th>Country</th>\n",
       "      <th>Date</th>\n",
       "      <th>Cases</th>\n",
       "      <th>Deaths</th>\n",
       "      <th>Recovered</th>\n",
       "      <th>Vaccination_count</th>\n",
       "    </tr>\n",
       "  </thead>\n",
       "  <tbody>\n",
       "    <tr>\n",
       "      <th>0</th>\n",
       "      <td>Afghanistan</td>\n",
       "      <td>7/5/21</td>\n",
       "      <td>125937</td>\n",
       "      <td>5283</td>\n",
       "      <td>75314</td>\n",
       "      <td>915671</td>\n",
       "    </tr>\n",
       "    <tr>\n",
       "      <th>1</th>\n",
       "      <td>Afghanistan</td>\n",
       "      <td>7/6/21</td>\n",
       "      <td>127464</td>\n",
       "      <td>5360</td>\n",
       "      <td>76218</td>\n",
       "      <td>923566</td>\n",
       "    </tr>\n",
       "    <tr>\n",
       "      <th>2</th>\n",
       "      <td>Afghanistan</td>\n",
       "      <td>7/7/21</td>\n",
       "      <td>129021</td>\n",
       "      <td>5415</td>\n",
       "      <td>77280</td>\n",
       "      <td>934463</td>\n",
       "    </tr>\n",
       "  </tbody>\n",
       "</table>\n",
       "</div>"
      ],
      "text/plain": [
       "       Country    Date   Cases  Deaths  Recovered  Vaccination_count\n",
       "0  Afghanistan  7/5/21  125937    5283      75314             915671\n",
       "1  Afghanistan  7/6/21  127464    5360      76218             923566\n",
       "2  Afghanistan  7/7/21  129021    5415      77280             934463"
      ]
     },
     "execution_count": 10,
     "metadata": {},
     "output_type": "execute_result"
    }
   ],
   "source": [
    "# Merging historical world data with vaccination data. \n",
    "covid_df = pd.merge(world_covid_df,world_vaccination_df)\n",
    "covid_df.head(3)\n",
    "\n"
   ]
  },
  {
   "cell_type": "code",
   "execution_count": 11,
   "id": "5c49ed7e",
   "metadata": {},
   "outputs": [
    {
     "data": {
      "text/html": [
       "<div>\n",
       "<style scoped>\n",
       "    .dataframe tbody tr th:only-of-type {\n",
       "        vertical-align: middle;\n",
       "    }\n",
       "\n",
       "    .dataframe tbody tr th {\n",
       "        vertical-align: top;\n",
       "    }\n",
       "\n",
       "    .dataframe thead th {\n",
       "        text-align: right;\n",
       "    }\n",
       "</style>\n",
       "<table border=\"1\" class=\"dataframe\">\n",
       "  <thead>\n",
       "    <tr style=\"text-align: right;\">\n",
       "      <th></th>\n",
       "      <th>Country</th>\n",
       "      <th>Date</th>\n",
       "      <th>Cases</th>\n",
       "      <th>Deaths</th>\n",
       "      <th>Recovered</th>\n",
       "      <th>Vaccination_count</th>\n",
       "    </tr>\n",
       "  </thead>\n",
       "  <tbody>\n",
       "    <tr>\n",
       "      <th>5</th>\n",
       "      <td>Afghanistan</td>\n",
       "      <td>7/10/21</td>\n",
       "      <td>131586</td>\n",
       "      <td>5561</td>\n",
       "      <td>80226</td>\n",
       "      <td>955848</td>\n",
       "    </tr>\n",
       "    <tr>\n",
       "      <th>6</th>\n",
       "      <td>Afghanistan</td>\n",
       "      <td>7/11/21</td>\n",
       "      <td>131586</td>\n",
       "      <td>5561</td>\n",
       "      <td>81077</td>\n",
       "      <td>962093</td>\n",
       "    </tr>\n",
       "    <tr>\n",
       "      <th>7</th>\n",
       "      <td>Afghanistan</td>\n",
       "      <td>7/12/21</td>\n",
       "      <td>134653</td>\n",
       "      <td>5791</td>\n",
       "      <td>82586</td>\n",
       "      <td>971681</td>\n",
       "    </tr>\n",
       "    <tr>\n",
       "      <th>8</th>\n",
       "      <td>Afghanistan</td>\n",
       "      <td>7/13/21</td>\n",
       "      <td>134653</td>\n",
       "      <td>5791</td>\n",
       "      <td>82586</td>\n",
       "      <td>982882</td>\n",
       "    </tr>\n",
       "    <tr>\n",
       "      <th>9</th>\n",
       "      <td>Afghanistan</td>\n",
       "      <td>7/14/21</td>\n",
       "      <td>136643</td>\n",
       "      <td>5923</td>\n",
       "      <td>82586</td>\n",
       "      <td>1024168</td>\n",
       "    </tr>\n",
       "  </tbody>\n",
       "</table>\n",
       "</div>"
      ],
      "text/plain": [
       "       Country     Date   Cases  Deaths  Recovered  Vaccination_count\n",
       "5  Afghanistan  7/10/21  131586    5561      80226             955848\n",
       "6  Afghanistan  7/11/21  131586    5561      81077             962093\n",
       "7  Afghanistan  7/12/21  134653    5791      82586             971681\n",
       "8  Afghanistan  7/13/21  134653    5791      82586             982882\n",
       "9  Afghanistan  7/14/21  136643    5923      82586            1024168"
      ]
     },
     "execution_count": 11,
     "metadata": {},
     "output_type": "execute_result"
    }
   ],
   "source": [
    "# Removing the duplicate values for certain countries\n",
    "\n",
    "covid_df = covid_df.sort_values(['Country','Date','Cases']).drop_duplicates(subset=[\"Country\",\"Date\"],keep=\"last\")\n",
    "\n",
    "\n",
    "covid_df.head(5)"
   ]
  },
  {
   "cell_type": "code",
   "execution_count": 12,
   "id": "f83c9115",
   "metadata": {},
   "outputs": [
    {
     "data": {
      "text/html": [
       "<div>\n",
       "<style scoped>\n",
       "    .dataframe tbody tr th:only-of-type {\n",
       "        vertical-align: middle;\n",
       "    }\n",
       "\n",
       "    .dataframe tbody tr th {\n",
       "        vertical-align: top;\n",
       "    }\n",
       "\n",
       "    .dataframe thead th {\n",
       "        text-align: right;\n",
       "    }\n",
       "</style>\n",
       "<table border=\"1\" class=\"dataframe\">\n",
       "  <thead>\n",
       "    <tr style=\"text-align: right;\">\n",
       "      <th></th>\n",
       "      <th>Country</th>\n",
       "      <th>Date</th>\n",
       "      <th>Cases</th>\n",
       "      <th>Deaths</th>\n",
       "      <th>Recovered</th>\n",
       "      <th>Vaccination_count</th>\n",
       "    </tr>\n",
       "  </thead>\n",
       "  <tbody>\n",
       "    <tr>\n",
       "      <th>0</th>\n",
       "      <td>Afghanistan</td>\n",
       "      <td>2021-07-05</td>\n",
       "      <td>125937</td>\n",
       "      <td>5283</td>\n",
       "      <td>75314</td>\n",
       "      <td>915671</td>\n",
       "    </tr>\n",
       "    <tr>\n",
       "      <th>1</th>\n",
       "      <td>Afghanistan</td>\n",
       "      <td>2021-07-06</td>\n",
       "      <td>127464</td>\n",
       "      <td>5360</td>\n",
       "      <td>76218</td>\n",
       "      <td>923566</td>\n",
       "    </tr>\n",
       "    <tr>\n",
       "      <th>2</th>\n",
       "      <td>Afghanistan</td>\n",
       "      <td>2021-07-07</td>\n",
       "      <td>129021</td>\n",
       "      <td>5415</td>\n",
       "      <td>77280</td>\n",
       "      <td>934463</td>\n",
       "    </tr>\n",
       "    <tr>\n",
       "      <th>3</th>\n",
       "      <td>Afghanistan</td>\n",
       "      <td>2021-07-08</td>\n",
       "      <td>130113</td>\n",
       "      <td>5477</td>\n",
       "      <td>78521</td>\n",
       "      <td>941428</td>\n",
       "    </tr>\n",
       "    <tr>\n",
       "      <th>4</th>\n",
       "      <td>Afghanistan</td>\n",
       "      <td>2021-07-09</td>\n",
       "      <td>131586</td>\n",
       "      <td>5561</td>\n",
       "      <td>79446</td>\n",
       "      <td>948556</td>\n",
       "    </tr>\n",
       "  </tbody>\n",
       "</table>\n",
       "</div>"
      ],
      "text/plain": [
       "       Country       Date   Cases  Deaths  Recovered  Vaccination_count\n",
       "0  Afghanistan 2021-07-05  125937    5283      75314             915671\n",
       "1  Afghanistan 2021-07-06  127464    5360      76218             923566\n",
       "2  Afghanistan 2021-07-07  129021    5415      77280             934463\n",
       "3  Afghanistan 2021-07-08  130113    5477      78521             941428\n",
       "4  Afghanistan 2021-07-09  131586    5561      79446             948556"
      ]
     },
     "execution_count": 12,
     "metadata": {},
     "output_type": "execute_result"
    }
   ],
   "source": [
    "# Sorting the data frame\n",
    "\n",
    "covid_df['Date']=pd.to_datetime(covid_df.Date)\n",
    "covid_df=covid_df.sort_values(['Country','Date'])\n",
    "covid_df.head(5)"
   ]
  },
  {
   "cell_type": "markdown",
   "id": "00fe82a0",
   "metadata": {},
   "source": [
    "## COVID DATA"
   ]
  },
  {
   "cell_type": "code",
   "execution_count": 13,
   "id": "6898f38b",
   "metadata": {},
   "outputs": [
    {
     "data": {
      "text/html": [
       "<div>\n",
       "<style scoped>\n",
       "    .dataframe tbody tr th:only-of-type {\n",
       "        vertical-align: middle;\n",
       "    }\n",
       "\n",
       "    .dataframe tbody tr th {\n",
       "        vertical-align: top;\n",
       "    }\n",
       "\n",
       "    .dataframe thead th {\n",
       "        text-align: right;\n",
       "    }\n",
       "</style>\n",
       "<table border=\"1\" class=\"dataframe\">\n",
       "  <thead>\n",
       "    <tr style=\"text-align: right;\">\n",
       "      <th></th>\n",
       "      <th>Country</th>\n",
       "      <th>Date</th>\n",
       "      <th>Cases</th>\n",
       "      <th>Deaths</th>\n",
       "      <th>Recovered</th>\n",
       "      <th>Vaccination_count</th>\n",
       "    </tr>\n",
       "  </thead>\n",
       "  <tbody>\n",
       "    <tr>\n",
       "      <th>0</th>\n",
       "      <td>Afghanistan</td>\n",
       "      <td>2021-07-05</td>\n",
       "      <td>125937</td>\n",
       "      <td>5283</td>\n",
       "      <td>75314</td>\n",
       "      <td>915671</td>\n",
       "    </tr>\n",
       "    <tr>\n",
       "      <th>1</th>\n",
       "      <td>Afghanistan</td>\n",
       "      <td>2021-07-06</td>\n",
       "      <td>127464</td>\n",
       "      <td>5360</td>\n",
       "      <td>76218</td>\n",
       "      <td>923566</td>\n",
       "    </tr>\n",
       "    <tr>\n",
       "      <th>2</th>\n",
       "      <td>Afghanistan</td>\n",
       "      <td>2021-07-07</td>\n",
       "      <td>129021</td>\n",
       "      <td>5415</td>\n",
       "      <td>77280</td>\n",
       "      <td>934463</td>\n",
       "    </tr>\n",
       "    <tr>\n",
       "      <th>3</th>\n",
       "      <td>Afghanistan</td>\n",
       "      <td>2021-07-08</td>\n",
       "      <td>130113</td>\n",
       "      <td>5477</td>\n",
       "      <td>78521</td>\n",
       "      <td>941428</td>\n",
       "    </tr>\n",
       "    <tr>\n",
       "      <th>4</th>\n",
       "      <td>Afghanistan</td>\n",
       "      <td>2021-07-09</td>\n",
       "      <td>131586</td>\n",
       "      <td>5561</td>\n",
       "      <td>79446</td>\n",
       "      <td>948556</td>\n",
       "    </tr>\n",
       "  </tbody>\n",
       "</table>\n",
       "</div>"
      ],
      "text/plain": [
       "       Country       Date   Cases  Deaths  Recovered  Vaccination_count\n",
       "0  Afghanistan 2021-07-05  125937    5283      75314             915671\n",
       "1  Afghanistan 2021-07-06  127464    5360      76218             923566\n",
       "2  Afghanistan 2021-07-07  129021    5415      77280             934463\n",
       "3  Afghanistan 2021-07-08  130113    5477      78521             941428\n",
       "4  Afghanistan 2021-07-09  131586    5561      79446             948556"
      ]
     },
     "execution_count": 13,
     "metadata": {},
     "output_type": "execute_result"
    }
   ],
   "source": [
    "#Covid data frame containing historical data of cases, deaths, recoverd and vaccination information for mltiple countries\n",
    "\n",
    "covid_df.head(5)"
   ]
  },
  {
   "cell_type": "markdown",
   "id": "67330871",
   "metadata": {},
   "source": [
    "## GROUP BY"
   ]
  },
  {
   "cell_type": "code",
   "execution_count": 14,
   "id": "f7c9b59f",
   "metadata": {},
   "outputs": [
    {
     "data": {
      "text/html": [
       "<div>\n",
       "<style scoped>\n",
       "    .dataframe tbody tr th:only-of-type {\n",
       "        vertical-align: middle;\n",
       "    }\n",
       "\n",
       "    .dataframe tbody tr th {\n",
       "        vertical-align: top;\n",
       "    }\n",
       "\n",
       "    .dataframe thead th {\n",
       "        text-align: right;\n",
       "    }\n",
       "</style>\n",
       "<table border=\"1\" class=\"dataframe\">\n",
       "  <thead>\n",
       "    <tr style=\"text-align: right;\">\n",
       "      <th></th>\n",
       "      <th>Country</th>\n",
       "      <th>Cases</th>\n",
       "      <th>Deaths</th>\n",
       "      <th>Recovered</th>\n",
       "      <th>Vaccination_count</th>\n",
       "    </tr>\n",
       "  </thead>\n",
       "  <tbody>\n",
       "    <tr>\n",
       "      <th>0</th>\n",
       "      <td>Afghanistan</td>\n",
       "      <td>141489</td>\n",
       "      <td>6213</td>\n",
       "      <td>82586</td>\n",
       "      <td>1112010</td>\n",
       "    </tr>\n",
       "    <tr>\n",
       "      <th>1</th>\n",
       "      <td>Albania</td>\n",
       "      <td>132697</td>\n",
       "      <td>2456</td>\n",
       "      <td>130081</td>\n",
       "      <td>1076031</td>\n",
       "    </tr>\n",
       "    <tr>\n",
       "      <th>2</th>\n",
       "      <td>Algeria</td>\n",
       "      <td>154486</td>\n",
       "      <td>3956</td>\n",
       "      <td>106337</td>\n",
       "      <td>3160604</td>\n",
       "    </tr>\n",
       "    <tr>\n",
       "      <th>3</th>\n",
       "      <td>Andorra</td>\n",
       "      <td>14359</td>\n",
       "      <td>127</td>\n",
       "      <td>13897</td>\n",
       "      <td>82349</td>\n",
       "    </tr>\n",
       "    <tr>\n",
       "      <th>4</th>\n",
       "      <td>Angola</td>\n",
       "      <td>40906</td>\n",
       "      <td>969</td>\n",
       "      <td>34790</td>\n",
       "      <td>1592537</td>\n",
       "    </tr>\n",
       "    <tr>\n",
       "      <th>5</th>\n",
       "      <td>Antigua and Barbuda</td>\n",
       "      <td>1275</td>\n",
       "      <td>42</td>\n",
       "      <td>1225</td>\n",
       "      <td>66223</td>\n",
       "    </tr>\n",
       "    <tr>\n",
       "      <th>6</th>\n",
       "      <td>Argentina</td>\n",
       "      <td>4769142</td>\n",
       "      <td>101955</td>\n",
       "      <td>4407815</td>\n",
       "      <td>27430531</td>\n",
       "    </tr>\n",
       "    <tr>\n",
       "      <th>7</th>\n",
       "      <td>Armenia</td>\n",
       "      <td>227522</td>\n",
       "      <td>4569</td>\n",
       "      <td>218427</td>\n",
       "      <td>134331</td>\n",
       "    </tr>\n",
       "    <tr>\n",
       "      <th>8</th>\n",
       "      <td>Australia</td>\n",
       "      <td>20813</td>\n",
       "      <td>820</td>\n",
       "      <td>19898</td>\n",
       "      <td>10125533</td>\n",
       "    </tr>\n",
       "    <tr>\n",
       "      <th>9</th>\n",
       "      <td>Austria</td>\n",
       "      <td>653998</td>\n",
       "      <td>10729</td>\n",
       "      <td>639700</td>\n",
       "      <td>9096077</td>\n",
       "    </tr>\n",
       "  </tbody>\n",
       "</table>\n",
       "</div>"
      ],
      "text/plain": [
       "               Country    Cases  Deaths  Recovered  Vaccination_count\n",
       "0          Afghanistan   141489    6213      82586            1112010\n",
       "1              Albania   132697    2456     130081            1076031\n",
       "2              Algeria   154486    3956     106337            3160604\n",
       "3              Andorra    14359     127      13897              82349\n",
       "4               Angola    40906     969      34790            1592537\n",
       "5  Antigua and Barbuda     1275      42       1225              66223\n",
       "6            Argentina  4769142  101955    4407815           27430531\n",
       "7              Armenia   227522    4569     218427             134331\n",
       "8            Australia    20813     820      19898           10125533\n",
       "9              Austria   653998   10729     639700            9096077"
      ]
     },
     "execution_count": 14,
     "metadata": {},
     "output_type": "execute_result"
    }
   ],
   "source": [
    "# Group by based on country\n",
    "covid_groupby = covid_df.groupby('Country').median().reset_index()\n",
    "covid_groupby.head(10)"
   ]
  },
  {
   "cell_type": "markdown",
   "id": "88bf2e52",
   "metadata": {},
   "source": [
    "## VACCINATION DATA"
   ]
  },
  {
   "cell_type": "code",
   "execution_count": 15,
   "id": "df4d9915",
   "metadata": {},
   "outputs": [
    {
     "data": {
      "text/plain": [
       "'2021-08-03'"
      ]
     },
     "execution_count": 15,
     "metadata": {},
     "output_type": "execute_result"
    }
   ],
   "source": [
    "# Pulling todays date\n",
    "todays_date = str(date.today())\n",
    "todays_date"
   ]
  },
  {
   "cell_type": "code",
   "execution_count": 16,
   "id": "742ea728",
   "metadata": {},
   "outputs": [
    {
     "name": "stdout",
     "output_type": "stream",
     "text": [
      "8/3/21\n"
     ]
    }
   ],
   "source": [
    "# Formatting todays date\n",
    "\n",
    "todays_date = str(date.today())\n",
    "clean_date = f\"{todays_date[6:7]}/{todays_date[9:]}/{todays_date[2:4]}\"\n",
    "print(clean_date)\n",
    "\n",
    "\n"
   ]
  },
  {
   "cell_type": "code",
   "execution_count": 17,
   "id": "e3a7dd15",
   "metadata": {},
   "outputs": [
    {
     "data": {
      "text/plain": [
       "213"
      ]
     },
     "execution_count": 17,
     "metadata": {},
     "output_type": "execute_result"
    }
   ],
   "source": [
    "# Pulling the current day vaccination information for multiple countries\n",
    "\n",
    "\n",
    "vaccination1 = requests.get(\"https://disease.sh/v3/covid-19/vaccine/coverage/countries?lastdays=1\").json()\n",
    "country = []\n",
    "vc = []\n",
    "\n",
    "\n",
    "for i in range(len(vaccination1)):\n",
    "    c = vaccination1[i]['country']    \n",
    "    vc.append(vaccination1[i]['timeline'][clean_date])   \n",
    "    country.append(c)\n",
    "\n",
    "\n",
    "len(vc)\n",
    "\n"
   ]
  },
  {
   "cell_type": "code",
   "execution_count": 18,
   "id": "21c86a01",
   "metadata": {},
   "outputs": [
    {
     "data": {
      "text/html": [
       "<div>\n",
       "<style scoped>\n",
       "    .dataframe tbody tr th:only-of-type {\n",
       "        vertical-align: middle;\n",
       "    }\n",
       "\n",
       "    .dataframe tbody tr th {\n",
       "        vertical-align: top;\n",
       "    }\n",
       "\n",
       "    .dataframe thead th {\n",
       "        text-align: right;\n",
       "    }\n",
       "</style>\n",
       "<table border=\"1\" class=\"dataframe\">\n",
       "  <thead>\n",
       "    <tr style=\"text-align: right;\">\n",
       "      <th></th>\n",
       "      <th>Country</th>\n",
       "      <th>Vaccination_count</th>\n",
       "    </tr>\n",
       "  </thead>\n",
       "  <tbody>\n",
       "    <tr>\n",
       "      <th>0</th>\n",
       "      <td>Afghanistan</td>\n",
       "      <td>1381416</td>\n",
       "    </tr>\n",
       "    <tr>\n",
       "      <th>1</th>\n",
       "      <td>Albania</td>\n",
       "      <td>1203087</td>\n",
       "    </tr>\n",
       "    <tr>\n",
       "      <th>2</th>\n",
       "      <td>Algeria</td>\n",
       "      <td>3421279</td>\n",
       "    </tr>\n",
       "    <tr>\n",
       "      <th>3</th>\n",
       "      <td>Andorra</td>\n",
       "      <td>82349</td>\n",
       "    </tr>\n",
       "    <tr>\n",
       "      <th>4</th>\n",
       "      <td>Angola</td>\n",
       "      <td>1592537</td>\n",
       "    </tr>\n",
       "  </tbody>\n",
       "</table>\n",
       "</div>"
      ],
      "text/plain": [
       "       Country  Vaccination_count\n",
       "0  Afghanistan            1381416\n",
       "1      Albania            1203087\n",
       "2      Algeria            3421279\n",
       "3      Andorra              82349\n",
       "4       Angola            1592537"
      ]
     },
     "execution_count": 18,
     "metadata": {},
     "output_type": "execute_result"
    }
   ],
   "source": [
    "# Vaccination information for each country\n",
    "vaccine_count = pd.DataFrame({\"Country\" : country,\n",
    "                               \"Vaccination_count\": vc  })\n",
    "\n",
    "vaccine_count.head()"
   ]
  },
  {
   "cell_type": "markdown",
   "id": "2664901a",
   "metadata": {},
   "source": [
    "## PRESENT DAY COVID INFORMATION"
   ]
  },
  {
   "cell_type": "code",
   "execution_count": 19,
   "id": "5192d567",
   "metadata": {},
   "outputs": [],
   "source": [
    "country = []\n",
    "vaccine1 =[]\n",
    "v_date1 = []\n",
    "for i in range(len(vaccination1)): \n",
    "       \n",
    "    \n",
    "    for j in vaccine_days:\n",
    "        \n",
    "        try:\n",
    "             \n",
    "            vaccine1.append(vaccination1[i][\"timeline\"][j])\n",
    "            country.append(vaccination1[i][\"country\"])\n",
    "            v_date1.append(j)\n",
    "        except:\n",
    "            pass"
   ]
  },
  {
   "cell_type": "code",
   "execution_count": 20,
   "id": "1509006a",
   "metadata": {},
   "outputs": [],
   "source": [
    "url= \"https://disease.sh/v3/covid-19/countries/\"\n",
    "\n",
    "\n",
    "\n",
    "world_active =[]\n",
    "activePerOneMillion = []\n",
    "cases = []\n",
    "casesPerOneMillion = []\n",
    "continent = []\n",
    "w_country = []\n",
    "lat = []\n",
    "long = []\n",
    "critical = []\n",
    "criticalPerOneMillion = []\n",
    "deaths = []\n",
    "deathsPerOneMillion = []\n",
    "population = []\n",
    "recovered=[]\n",
    "recoveredPerOneMillion = []\n",
    "tests = []\n",
    "testsPerOneMillion = []\n",
    "todayCases = []\n",
    "todayDeaths = []\n",
    "todayRecovered = []\n",
    "for c in country:\n",
    "    try:\n",
    "        response = requests.get(url + c).json()\n",
    "        world_active.append(response['active'])\n",
    "        activePerOneMillion.append(response['activePerOneMillion'])\n",
    "        cases.append(response['cases'])\n",
    "        casesPerOneMillion.append(response['casesPerOneMillion'])\n",
    "        continent.append(response['continent'])\n",
    "        w_country.append(response['country'])\n",
    "        lat.append(response['countryInfo']['lat'])\n",
    "        long.append(response['countryInfo']['long'])\n",
    "        critical.append(response['critical'])\n",
    "        criticalPerOneMillion.append(response['criticalPerOneMillion'])\n",
    "        deaths.append(response['deaths'])\n",
    "        deathsPerOneMillion.append(response['deathsPerOneMillion'])\n",
    "        population.append(response['population'])\n",
    "        recovered.append(response['recovered'])\n",
    "        recoveredPerOneMillion.append(response['recoveredPerOneMillion'])\n",
    "        tests.append(response['tests'])\n",
    "        testsPerOneMillion.append(response['testsPerOneMillion'])\n",
    "        todayCases.append(response['todayCases'])\n",
    "        todayDeaths.append(response['todayDeaths'])\n",
    "        todayRecovered.append(response['todayRecovered'])\n",
    "    except:\n",
    "        pass\n",
    "        #print(f'{c} does not have data')\n"
   ]
  },
  {
   "cell_type": "code",
   "execution_count": 21,
   "id": "ca1b7a18",
   "metadata": {},
   "outputs": [
    {
     "data": {
      "text/html": [
       "<div>\n",
       "<style scoped>\n",
       "    .dataframe tbody tr th:only-of-type {\n",
       "        vertical-align: middle;\n",
       "    }\n",
       "\n",
       "    .dataframe tbody tr th {\n",
       "        vertical-align: top;\n",
       "    }\n",
       "\n",
       "    .dataframe thead th {\n",
       "        text-align: right;\n",
       "    }\n",
       "</style>\n",
       "<table border=\"1\" class=\"dataframe\">\n",
       "  <thead>\n",
       "    <tr style=\"text-align: right;\">\n",
       "      <th></th>\n",
       "      <th>Active</th>\n",
       "      <th>Total_cases</th>\n",
       "      <th>Continent</th>\n",
       "      <th>Country</th>\n",
       "      <th>Latitude</th>\n",
       "      <th>Longitude</th>\n",
       "      <th>Critical</th>\n",
       "      <th>Overall_deaths</th>\n",
       "      <th>Population</th>\n",
       "      <th>Recovered</th>\n",
       "      <th>Tests</th>\n",
       "      <th>TodayCases</th>\n",
       "      <th>TodayDeaths</th>\n",
       "      <th>TodayRecovered</th>\n",
       "    </tr>\n",
       "  </thead>\n",
       "  <tbody>\n",
       "    <tr>\n",
       "      <th>0</th>\n",
       "      <td>41201</td>\n",
       "      <td>148933</td>\n",
       "      <td>Asia</td>\n",
       "      <td>Afghanistan</td>\n",
       "      <td>33.0</td>\n",
       "      <td>65.0</td>\n",
       "      <td>1124</td>\n",
       "      <td>6836</td>\n",
       "      <td>39876288</td>\n",
       "      <td>100896</td>\n",
       "      <td>715311</td>\n",
       "      <td>361</td>\n",
       "      <td>32</td>\n",
       "      <td>860</td>\n",
       "    </tr>\n",
       "    <tr>\n",
       "      <th>1</th>\n",
       "      <td>463</td>\n",
       "      <td>133211</td>\n",
       "      <td>Europe</td>\n",
       "      <td>Albania</td>\n",
       "      <td>41.0</td>\n",
       "      <td>20.0</td>\n",
       "      <td>3</td>\n",
       "      <td>2457</td>\n",
       "      <td>2874383</td>\n",
       "      <td>130291</td>\n",
       "      <td>916777</td>\n",
       "      <td>65</td>\n",
       "      <td>0</td>\n",
       "      <td>35</td>\n",
       "    </tr>\n",
       "    <tr>\n",
       "      <th>2</th>\n",
       "      <td>53302</td>\n",
       "      <td>175229</td>\n",
       "      <td>Africa</td>\n",
       "      <td>Algeria</td>\n",
       "      <td>28.0</td>\n",
       "      <td>3.0</td>\n",
       "      <td>29</td>\n",
       "      <td>4370</td>\n",
       "      <td>44708118</td>\n",
       "      <td>117557</td>\n",
       "      <td>230861</td>\n",
       "      <td>1307</td>\n",
       "      <td>41</td>\n",
       "      <td>787</td>\n",
       "    </tr>\n",
       "    <tr>\n",
       "      <th>3</th>\n",
       "      <td>290</td>\n",
       "      <td>14766</td>\n",
       "      <td>Europe</td>\n",
       "      <td>Andorra</td>\n",
       "      <td>42.5</td>\n",
       "      <td>1.6</td>\n",
       "      <td>0</td>\n",
       "      <td>128</td>\n",
       "      <td>77399</td>\n",
       "      <td>14348</td>\n",
       "      <td>193595</td>\n",
       "      <td>19</td>\n",
       "      <td>0</td>\n",
       "      <td>52</td>\n",
       "    </tr>\n",
       "    <tr>\n",
       "      <th>4</th>\n",
       "      <td>3592</td>\n",
       "      <td>42970</td>\n",
       "      <td>Africa</td>\n",
       "      <td>Angola</td>\n",
       "      <td>-12.5</td>\n",
       "      <td>18.5</td>\n",
       "      <td>8</td>\n",
       "      <td>1018</td>\n",
       "      <td>33969434</td>\n",
       "      <td>38360</td>\n",
       "      <td>681443</td>\n",
       "      <td>0</td>\n",
       "      <td>0</td>\n",
       "      <td>0</td>\n",
       "    </tr>\n",
       "  </tbody>\n",
       "</table>\n",
       "</div>"
      ],
      "text/plain": [
       "   Active  Total_cases Continent      Country  Latitude  Longitude  Critical  \\\n",
       "0   41201       148933      Asia  Afghanistan      33.0       65.0      1124   \n",
       "1     463       133211    Europe      Albania      41.0       20.0         3   \n",
       "2   53302       175229    Africa      Algeria      28.0        3.0        29   \n",
       "3     290        14766    Europe      Andorra      42.5        1.6         0   \n",
       "4    3592        42970    Africa       Angola     -12.5       18.5         8   \n",
       "\n",
       "   Overall_deaths  Population  Recovered   Tests  TodayCases  TodayDeaths  \\\n",
       "0            6836    39876288     100896  715311         361           32   \n",
       "1            2457     2874383     130291  916777          65            0   \n",
       "2            4370    44708118     117557  230861        1307           41   \n",
       "3             128       77399      14348  193595          19            0   \n",
       "4            1018    33969434      38360  681443           0            0   \n",
       "\n",
       "   TodayRecovered  \n",
       "0             860  \n",
       "1              35  \n",
       "2             787  \n",
       "3              52  \n",
       "4               0  "
      ]
     },
     "execution_count": 21,
     "metadata": {},
     "output_type": "execute_result"
    }
   ],
   "source": [
    "\n",
    "\n",
    "daily_covid_df = pd.DataFrame({\n",
    "                                \"Active\" : world_active,\n",
    "                                #\"ActivePerOneMillion\" : activePerOneMillion,\n",
    "                                \"Total_cases\" : cases,\n",
    "                                #\"Total_casesPerOneMillion\" : casesPerOneMillion,\n",
    "                                \"Continent\" : continent,                                \n",
    "                                \"Country\" : w_country,\n",
    "                                \"Latitude\" : lat,\n",
    "                                \"Longitude\" : long,\n",
    "                                \"Critical\" : critical,\n",
    "                                #\"CriticalPerOneMillion\" : criticalPerOneMillion,\n",
    "                                \"Overall_deaths\" : deaths,\n",
    "                                #\"Overall_deathsPerOneMillion\" : deathsPerOneMillion,\n",
    "                                \"Population\" : population,\n",
    "                                \"Recovered\" : recovered,\n",
    "                                #\"RecoveredPerOneMillion\" : recoveredPerOneMillion,\n",
    "                                \"Tests\" : tests,\n",
    "                                #\"TestsPerOneMillion\" : testsPerOneMillion,\n",
    "                                \"TodayCases\" : todayCases,\n",
    "                                \"TodayDeaths\" : todayDeaths,\n",
    "                                \"TodayRecovered\" : todayRecovered,\n",
    "                                \n",
    "                                \n",
    "})\n",
    "\n",
    "daily_covid_df.head(5)"
   ]
  },
  {
   "cell_type": "code",
   "execution_count": 22,
   "id": "5319479d",
   "metadata": {},
   "outputs": [
    {
     "data": {
      "text/html": [
       "<div>\n",
       "<style scoped>\n",
       "    .dataframe tbody tr th:only-of-type {\n",
       "        vertical-align: middle;\n",
       "    }\n",
       "\n",
       "    .dataframe tbody tr th {\n",
       "        vertical-align: top;\n",
       "    }\n",
       "\n",
       "    .dataframe thead th {\n",
       "        text-align: right;\n",
       "    }\n",
       "</style>\n",
       "<table border=\"1\" class=\"dataframe\">\n",
       "  <thead>\n",
       "    <tr style=\"text-align: right;\">\n",
       "      <th></th>\n",
       "      <th>Active</th>\n",
       "      <th>Total_cases</th>\n",
       "      <th>Continent</th>\n",
       "      <th>Country</th>\n",
       "      <th>Latitude</th>\n",
       "      <th>Longitude</th>\n",
       "      <th>Critical</th>\n",
       "      <th>Overall_deaths</th>\n",
       "      <th>Population</th>\n",
       "      <th>Recovered</th>\n",
       "      <th>Tests</th>\n",
       "      <th>TodayCases</th>\n",
       "      <th>TodayDeaths</th>\n",
       "      <th>TodayRecovered</th>\n",
       "      <th>Vaccination_count</th>\n",
       "    </tr>\n",
       "  </thead>\n",
       "  <tbody>\n",
       "    <tr>\n",
       "      <th>0</th>\n",
       "      <td>41201</td>\n",
       "      <td>148933</td>\n",
       "      <td>Asia</td>\n",
       "      <td>Afghanistan</td>\n",
       "      <td>33.0</td>\n",
       "      <td>65.0</td>\n",
       "      <td>1124</td>\n",
       "      <td>6836</td>\n",
       "      <td>39876288</td>\n",
       "      <td>100896</td>\n",
       "      <td>715311</td>\n",
       "      <td>361</td>\n",
       "      <td>32</td>\n",
       "      <td>860</td>\n",
       "      <td>1381416</td>\n",
       "    </tr>\n",
       "    <tr>\n",
       "      <th>1</th>\n",
       "      <td>463</td>\n",
       "      <td>133211</td>\n",
       "      <td>Europe</td>\n",
       "      <td>Albania</td>\n",
       "      <td>41.0</td>\n",
       "      <td>20.0</td>\n",
       "      <td>3</td>\n",
       "      <td>2457</td>\n",
       "      <td>2874383</td>\n",
       "      <td>130291</td>\n",
       "      <td>916777</td>\n",
       "      <td>65</td>\n",
       "      <td>0</td>\n",
       "      <td>35</td>\n",
       "      <td>1203087</td>\n",
       "    </tr>\n",
       "  </tbody>\n",
       "</table>\n",
       "</div>"
      ],
      "text/plain": [
       "   Active  Total_cases Continent      Country  Latitude  Longitude  Critical  \\\n",
       "0   41201       148933      Asia  Afghanistan      33.0       65.0      1124   \n",
       "1     463       133211    Europe      Albania      41.0       20.0         3   \n",
       "\n",
       "   Overall_deaths  Population  Recovered   Tests  TodayCases  TodayDeaths  \\\n",
       "0            6836    39876288     100896  715311         361           32   \n",
       "1            2457     2874383     130291  916777          65            0   \n",
       "\n",
       "   TodayRecovered  Vaccination_count  \n",
       "0             860            1381416  \n",
       "1              35            1203087  "
      ]
     },
     "execution_count": 22,
     "metadata": {},
     "output_type": "execute_result"
    }
   ],
   "source": [
    "# Merging daily covid data with vaccination data\n",
    "today_df = pd.merge(daily_covid_df,vaccine_count)\n",
    "\n",
    "today_df.head(2)"
   ]
  },
  {
   "cell_type": "code",
   "execution_count": 23,
   "id": "b4354ec3",
   "metadata": {},
   "outputs": [
    {
     "data": {
      "text/html": [
       "<div>\n",
       "<style scoped>\n",
       "    .dataframe tbody tr th:only-of-type {\n",
       "        vertical-align: middle;\n",
       "    }\n",
       "\n",
       "    .dataframe tbody tr th {\n",
       "        vertical-align: top;\n",
       "    }\n",
       "\n",
       "    .dataframe thead th {\n",
       "        text-align: right;\n",
       "    }\n",
       "</style>\n",
       "<table border=\"1\" class=\"dataframe\">\n",
       "  <thead>\n",
       "    <tr style=\"text-align: right;\">\n",
       "      <th></th>\n",
       "      <th>Country</th>\n",
       "      <th>Latitude</th>\n",
       "      <th>Longitude</th>\n",
       "      <th>Population</th>\n",
       "      <th>Continent</th>\n",
       "    </tr>\n",
       "  </thead>\n",
       "  <tbody>\n",
       "    <tr>\n",
       "      <th>0</th>\n",
       "      <td>Afghanistan</td>\n",
       "      <td>33.0</td>\n",
       "      <td>65.0</td>\n",
       "      <td>39876288</td>\n",
       "      <td>Asia</td>\n",
       "    </tr>\n",
       "    <tr>\n",
       "      <th>1</th>\n",
       "      <td>Albania</td>\n",
       "      <td>41.0</td>\n",
       "      <td>20.0</td>\n",
       "      <td>2874383</td>\n",
       "      <td>Europe</td>\n",
       "    </tr>\n",
       "    <tr>\n",
       "      <th>2</th>\n",
       "      <td>Algeria</td>\n",
       "      <td>28.0</td>\n",
       "      <td>3.0</td>\n",
       "      <td>44708118</td>\n",
       "      <td>Africa</td>\n",
       "    </tr>\n",
       "    <tr>\n",
       "      <th>3</th>\n",
       "      <td>Andorra</td>\n",
       "      <td>42.5</td>\n",
       "      <td>1.6</td>\n",
       "      <td>77399</td>\n",
       "      <td>Europe</td>\n",
       "    </tr>\n",
       "    <tr>\n",
       "      <th>4</th>\n",
       "      <td>Angola</td>\n",
       "      <td>-12.5</td>\n",
       "      <td>18.5</td>\n",
       "      <td>33969434</td>\n",
       "      <td>Africa</td>\n",
       "    </tr>\n",
       "  </tbody>\n",
       "</table>\n",
       "</div>"
      ],
      "text/plain": [
       "       Country  Latitude  Longitude  Population Continent\n",
       "0  Afghanistan      33.0       65.0    39876288      Asia\n",
       "1      Albania      41.0       20.0     2874383    Europe\n",
       "2      Algeria      28.0        3.0    44708118    Africa\n",
       "3      Andorra      42.5        1.6       77399    Europe\n",
       "4       Angola     -12.5       18.5    33969434    Africa"
      ]
     },
     "execution_count": 23,
     "metadata": {},
     "output_type": "execute_result"
    }
   ],
   "source": [
    "# Creating subset with required columns\n",
    "subset_today = today_df[['Country','Latitude','Longitude','Population','Continent']]\n",
    "subset_today.head()"
   ]
  },
  {
   "cell_type": "markdown",
   "id": "f2264951",
   "metadata": {},
   "source": [
    "## MAIN COVID DATAFRAME"
   ]
  },
  {
   "cell_type": "code",
   "execution_count": 24,
   "id": "09f3879f",
   "metadata": {},
   "outputs": [
    {
     "data": {
      "text/html": [
       "<div>\n",
       "<style scoped>\n",
       "    .dataframe tbody tr th:only-of-type {\n",
       "        vertical-align: middle;\n",
       "    }\n",
       "\n",
       "    .dataframe tbody tr th {\n",
       "        vertical-align: top;\n",
       "    }\n",
       "\n",
       "    .dataframe thead th {\n",
       "        text-align: right;\n",
       "    }\n",
       "</style>\n",
       "<table border=\"1\" class=\"dataframe\">\n",
       "  <thead>\n",
       "    <tr style=\"text-align: right;\">\n",
       "      <th></th>\n",
       "      <th>Country</th>\n",
       "      <th>Cases</th>\n",
       "      <th>Deaths</th>\n",
       "      <th>Recovered</th>\n",
       "      <th>Vaccination_count</th>\n",
       "      <th>Latitude</th>\n",
       "      <th>Longitude</th>\n",
       "      <th>Population</th>\n",
       "      <th>Continent</th>\n",
       "      <th>Unvaccination_count</th>\n",
       "    </tr>\n",
       "  </thead>\n",
       "  <tbody>\n",
       "    <tr>\n",
       "      <th>0</th>\n",
       "      <td>Afghanistan</td>\n",
       "      <td>141489</td>\n",
       "      <td>6213</td>\n",
       "      <td>82586</td>\n",
       "      <td>1112010</td>\n",
       "      <td>33.0</td>\n",
       "      <td>65.0</td>\n",
       "      <td>39876288</td>\n",
       "      <td>Asia</td>\n",
       "      <td>38764278</td>\n",
       "    </tr>\n",
       "    <tr>\n",
       "      <th>1</th>\n",
       "      <td>Albania</td>\n",
       "      <td>132697</td>\n",
       "      <td>2456</td>\n",
       "      <td>130081</td>\n",
       "      <td>1076031</td>\n",
       "      <td>41.0</td>\n",
       "      <td>20.0</td>\n",
       "      <td>2874383</td>\n",
       "      <td>Europe</td>\n",
       "      <td>1798352</td>\n",
       "    </tr>\n",
       "    <tr>\n",
       "      <th>2</th>\n",
       "      <td>Algeria</td>\n",
       "      <td>154486</td>\n",
       "      <td>3956</td>\n",
       "      <td>106337</td>\n",
       "      <td>3160604</td>\n",
       "      <td>28.0</td>\n",
       "      <td>3.0</td>\n",
       "      <td>44708118</td>\n",
       "      <td>Africa</td>\n",
       "      <td>41547514</td>\n",
       "    </tr>\n",
       "    <tr>\n",
       "      <th>3</th>\n",
       "      <td>Andorra</td>\n",
       "      <td>14359</td>\n",
       "      <td>127</td>\n",
       "      <td>13897</td>\n",
       "      <td>82349</td>\n",
       "      <td>42.5</td>\n",
       "      <td>1.6</td>\n",
       "      <td>77399</td>\n",
       "      <td>Europe</td>\n",
       "      <td>-4950</td>\n",
       "    </tr>\n",
       "    <tr>\n",
       "      <th>4</th>\n",
       "      <td>Angola</td>\n",
       "      <td>40906</td>\n",
       "      <td>969</td>\n",
       "      <td>34790</td>\n",
       "      <td>1592537</td>\n",
       "      <td>-12.5</td>\n",
       "      <td>18.5</td>\n",
       "      <td>33969434</td>\n",
       "      <td>Africa</td>\n",
       "      <td>32376897</td>\n",
       "    </tr>\n",
       "  </tbody>\n",
       "</table>\n",
       "</div>"
      ],
      "text/plain": [
       "       Country   Cases  Deaths  Recovered  Vaccination_count  Latitude  \\\n",
       "0  Afghanistan  141489    6213      82586            1112010      33.0   \n",
       "1      Albania  132697    2456     130081            1076031      41.0   \n",
       "2      Algeria  154486    3956     106337            3160604      28.0   \n",
       "3      Andorra   14359     127      13897              82349      42.5   \n",
       "4       Angola   40906     969      34790            1592537     -12.5   \n",
       "\n",
       "   Longitude  Population Continent  Unvaccination_count  \n",
       "0       65.0    39876288      Asia             38764278  \n",
       "1       20.0     2874383    Europe              1798352  \n",
       "2        3.0    44708118    Africa             41547514  \n",
       "3        1.6       77399    Europe                -4950  \n",
       "4       18.5    33969434    Africa             32376897  "
      ]
     },
     "execution_count": 24,
     "metadata": {},
     "output_type": "execute_result"
    }
   ],
   "source": [
    "#Merging covid groupby data with subset data to have all the required columns for analysis\n",
    "\n",
    "main_covid_df = pd.merge(covid_groupby,subset_today)\n",
    "\n",
    "# unvaccinated = population - vaccinated\n",
    "main_covid_df['Unvaccination_count'] = main_covid_df['Population']- main_covid_df['Vaccination_count']\n",
    "main_covid_df.head()"
   ]
  },
  {
   "cell_type": "code",
   "execution_count": 25,
   "id": "b151b016",
   "metadata": {},
   "outputs": [
    {
     "name": "stdout",
     "output_type": "stream",
     "text": [
      "<class 'pandas.core.frame.DataFrame'>\n",
      "Int64Index: 181 entries, 0 to 180\n",
      "Data columns (total 10 columns):\n",
      " #   Column               Non-Null Count  Dtype  \n",
      "---  ------               --------------  -----  \n",
      " 0   Country              181 non-null    object \n",
      " 1   Cases                181 non-null    int64  \n",
      " 2   Deaths               181 non-null    int64  \n",
      " 3   Recovered            181 non-null    int64  \n",
      " 4   Vaccination_count    181 non-null    int64  \n",
      " 5   Latitude             181 non-null    float64\n",
      " 6   Longitude            181 non-null    float64\n",
      " 7   Population           181 non-null    int64  \n",
      " 8   Continent            181 non-null    object \n",
      " 9   Unvaccination_count  181 non-null    int64  \n",
      "dtypes: float64(2), int64(6), object(2)\n",
      "memory usage: 15.6+ KB\n"
     ]
    }
   ],
   "source": [
    "main_covid_df.info()"
   ]
  },
  {
   "cell_type": "markdown",
   "id": "c70135d1",
   "metadata": {},
   "source": [
    "# VISUALIZATIONS"
   ]
  },
  {
   "cell_type": "markdown",
   "id": "4baed92f",
   "metadata": {},
   "source": [
    "## 1- TOP 10 VACCINATED COUNTRIES"
   ]
  },
  {
   "cell_type": "code",
   "execution_count": 26,
   "id": "ae4eaa55",
   "metadata": {},
   "outputs": [
    {
     "data": {
      "text/html": [
       "<div>\n",
       "<style scoped>\n",
       "    .dataframe tbody tr th:only-of-type {\n",
       "        vertical-align: middle;\n",
       "    }\n",
       "\n",
       "    .dataframe tbody tr th {\n",
       "        vertical-align: top;\n",
       "    }\n",
       "\n",
       "    .dataframe thead th {\n",
       "        text-align: right;\n",
       "    }\n",
       "</style>\n",
       "<table border=\"1\" class=\"dataframe\">\n",
       "  <thead>\n",
       "    <tr style=\"text-align: right;\">\n",
       "      <th></th>\n",
       "      <th>Rank</th>\n",
       "      <th>Country</th>\n",
       "      <th>Latitude</th>\n",
       "      <th>Longitude</th>\n",
       "    </tr>\n",
       "  </thead>\n",
       "  <tbody>\n",
       "    <tr>\n",
       "      <th>34</th>\n",
       "      <td>1</td>\n",
       "      <td>China</td>\n",
       "      <td>35.0000</td>\n",
       "      <td>105.0000</td>\n",
       "    </tr>\n",
       "    <tr>\n",
       "      <th>73</th>\n",
       "      <td>2</td>\n",
       "      <td>India</td>\n",
       "      <td>20.0000</td>\n",
       "      <td>77.0000</td>\n",
       "    </tr>\n",
       "    <tr>\n",
       "      <th>170</th>\n",
       "      <td>3</td>\n",
       "      <td>USA</td>\n",
       "      <td>38.0000</td>\n",
       "      <td>-97.0000</td>\n",
       "    </tr>\n",
       "    <tr>\n",
       "      <th>23</th>\n",
       "      <td>4</td>\n",
       "      <td>Brazil</td>\n",
       "      <td>-10.0000</td>\n",
       "      <td>-55.0000</td>\n",
       "    </tr>\n",
       "    <tr>\n",
       "      <th>61</th>\n",
       "      <td>5</td>\n",
       "      <td>Germany</td>\n",
       "      <td>51.0000</td>\n",
       "      <td>9.0000</td>\n",
       "    </tr>\n",
       "    <tr>\n",
       "      <th>169</th>\n",
       "      <td>6</td>\n",
       "      <td>UK</td>\n",
       "      <td>54.0000</td>\n",
       "      <td>-2.0000</td>\n",
       "    </tr>\n",
       "    <tr>\n",
       "      <th>81</th>\n",
       "      <td>7</td>\n",
       "      <td>Japan</td>\n",
       "      <td>36.0000</td>\n",
       "      <td>138.0000</td>\n",
       "    </tr>\n",
       "    <tr>\n",
       "      <th>57</th>\n",
       "      <td>8</td>\n",
       "      <td>France</td>\n",
       "      <td>46.0000</td>\n",
       "      <td>2.0000</td>\n",
       "    </tr>\n",
       "    <tr>\n",
       "      <th>167</th>\n",
       "      <td>9</td>\n",
       "      <td>Turkey</td>\n",
       "      <td>39.0000</td>\n",
       "      <td>35.0000</td>\n",
       "    </tr>\n",
       "    <tr>\n",
       "      <th>79</th>\n",
       "      <td>10</td>\n",
       "      <td>Italy</td>\n",
       "      <td>42.8333</td>\n",
       "      <td>12.8333</td>\n",
       "    </tr>\n",
       "  </tbody>\n",
       "</table>\n",
       "</div>"
      ],
      "text/plain": [
       "     Rank  Country  Latitude  Longitude\n",
       "34      1    China   35.0000   105.0000\n",
       "73      2    India   20.0000    77.0000\n",
       "170     3      USA   38.0000   -97.0000\n",
       "23      4   Brazil  -10.0000   -55.0000\n",
       "61      5  Germany   51.0000     9.0000\n",
       "169     6       UK   54.0000    -2.0000\n",
       "81      7    Japan   36.0000   138.0000\n",
       "57      8   France   46.0000     2.0000\n",
       "167     9   Turkey   39.0000    35.0000\n",
       "79     10    Italy   42.8333    12.8333"
      ]
     },
     "execution_count": 26,
     "metadata": {},
     "output_type": "execute_result"
    }
   ],
   "source": [
    "\n",
    "most_vaccinated_df = main_covid_df.sort_values(['Vaccination_count'], ascending = False).head(10)\n",
    "most_vaccinated_df['Rank'] = range(1,11,1)\n",
    "most_vaccinated_df[['Rank','Country','Latitude','Longitude']]"
   ]
  },
  {
   "cell_type": "code",
   "execution_count": 27,
   "id": "151218a5",
   "metadata": {},
   "outputs": [],
   "source": [
    "# Dependencies\n",
    "import gmaps\n",
    "from config import gkey\n",
    "# Google developer API key\n",
    "gmaps.configure(api_key=gkey)\n",
    "# Geocoordinates\n",
    "loc = most_vaccinated_df[[\"Latitude\", \"Longitude\"]]\n",
    "Vaccination_count = most_vaccinated_df['Vaccination_count']"
   ]
  },
  {
   "cell_type": "code",
   "execution_count": 28,
   "id": "beeaae2b",
   "metadata": {},
   "outputs": [
    {
     "data": {
      "application/vnd.jupyter.widget-view+json": {
       "model_id": "a783ee92fb4a4360913c9e6a5bb0a09d",
       "version_major": 2,
       "version_minor": 0
      },
      "text/plain": [
       "Figure(layout=FigureLayout(height='420px'))"
      ]
     },
     "metadata": {},
     "output_type": "display_data"
    }
   ],
   "source": [
    "# Plotting heatmap based on vaccination and adding marker layer on top of the plot\n",
    "\n",
    "fig = gmaps.figure(center=(45.0, -5.0), zoom_level=2)\n",
    "heat = gmaps.heatmap_layer(loc, weights = Vaccination_count, dissipating=False, point_radius=8)\n",
    "fig.add_layer(heat)\n",
    "\n",
    "\n",
    "info_box_template = \"\"\"\n",
    "<dl>\n",
    "\n",
    "<dt>Rank</dt><dd>{Rank}</dd>\n",
    "<dt>Country</dt><dd>{Country}</dd>\n",
    "</dl>\n",
    "\"\"\"\n",
    "# Store the DataFrame Row\n",
    "# NOTE: be sure to update with your DataFrame name\n",
    "Vaccine_info = [info_box_template.format(**row) for index, row in most_vaccinated_df.iterrows()]\n",
    "locations = most_vaccinated_df[[\"Latitude\", \"Longitude\"]]\n",
    "\n",
    "marker = gmaps.marker_layer(locations, info_box_content = Vaccine_info)\n",
    "fig.add_layer(marker)\n",
    "\n",
    "fig\n"
   ]
  },
  {
   "cell_type": "markdown",
   "id": "e852e682",
   "metadata": {},
   "source": [
    "#### Inference:\n",
    "\n",
    "Top three vaccinated countries are China, India and USA respectively. "
   ]
  },
  {
   "cell_type": "markdown",
   "id": "01237bf6",
   "metadata": {},
   "source": [
    "## 2-TOP 10 UNVACCINATED COUNTRIES BASED ON POPULATION"
   ]
  },
  {
   "cell_type": "code",
   "execution_count": 29,
   "id": "9183e245",
   "metadata": {},
   "outputs": [
    {
     "data": {
      "image/png": "[encoded data removed]",
      "text/plain": [
       "<Figure size 1080x576 with 1 Axes>"
      ]
     },
     "metadata": {
      "needs_background": "light"
     },
     "output_type": "display_data"
    },
    {
     "data": {
      "text/plain": [
       "<Figure size 432x288 with 0 Axes>"
      ]
     },
     "metadata": {},
     "output_type": "display_data"
    }
   ],
   "source": [
    "Vaccinated_and_unvaccinated = main_covid_df[['Country',\"Vaccination_count\",\"Unvaccination_count\"]].sort_values(['Unvaccination_count'], ascending = False).head(10)\n",
    "multi_plot = Vaccinated_and_unvaccinated.plot(kind=\"bar\", figsize=(15,8))\n",
    "\n",
    "# PandasPlot.set_xticklabels() can be used to set the tick labels as well\n",
    "multi_plot.set_xticklabels(Vaccinated_and_unvaccinated[\"Country\"], rotation=45)\n",
    "# Formatting the plot\n",
    "plt.title(\"Un-Vaccinated countries based on population\")\n",
    "plt.xlabel(\"Countries\")\n",
    "plt.ylabel(\"Vaccinated and unvacinated count\")\n",
    "plt.show()\n",
    "plt.tight_layout()\n",
    "\n"
   ]
  },
  {
   "cell_type": "markdown",
   "id": "4d61fa02",
   "metadata": {},
   "source": [
    "#### Inference:\n",
    "\n",
    "Eventhough India is among the top 3 vaccinated countries, but with respect to population still there are more people who needs to be vaccinated."
   ]
  },
  {
   "cell_type": "markdown",
   "id": "fad004ed",
   "metadata": {},
   "source": [
    "## 3-TOP 10 COUNTRIES WITH HIGHEST COVID CASES"
   ]
  },
  {
   "cell_type": "code",
   "execution_count": 30,
   "id": "8dfb13cc",
   "metadata": {},
   "outputs": [
    {
     "data": {
      "text/html": [
       "<div>\n",
       "<style scoped>\n",
       "    .dataframe tbody tr th:only-of-type {\n",
       "        vertical-align: middle;\n",
       "    }\n",
       "\n",
       "    .dataframe tbody tr th {\n",
       "        vertical-align: top;\n",
       "    }\n",
       "\n",
       "    .dataframe thead th {\n",
       "        text-align: right;\n",
       "    }\n",
       "</style>\n",
       "<table border=\"1\" class=\"dataframe\">\n",
       "  <thead>\n",
       "    <tr style=\"text-align: right;\">\n",
       "      <th></th>\n",
       "      <th>Rank</th>\n",
       "      <th>Country</th>\n",
       "      <th>Latitude</th>\n",
       "      <th>Longitude</th>\n",
       "    </tr>\n",
       "  </thead>\n",
       "  <tbody>\n",
       "    <tr>\n",
       "      <th>170</th>\n",
       "      <td>1</td>\n",
       "      <td>USA</td>\n",
       "      <td>38.0000</td>\n",
       "      <td>-97.0000</td>\n",
       "    </tr>\n",
       "    <tr>\n",
       "      <th>73</th>\n",
       "      <td>2</td>\n",
       "      <td>India</td>\n",
       "      <td>20.0000</td>\n",
       "      <td>77.0000</td>\n",
       "    </tr>\n",
       "    <tr>\n",
       "      <th>23</th>\n",
       "      <td>3</td>\n",
       "      <td>Brazil</td>\n",
       "      <td>-10.0000</td>\n",
       "      <td>-55.0000</td>\n",
       "    </tr>\n",
       "    <tr>\n",
       "      <th>131</th>\n",
       "      <td>4</td>\n",
       "      <td>Russia</td>\n",
       "      <td>60.0000</td>\n",
       "      <td>100.0000</td>\n",
       "    </tr>\n",
       "    <tr>\n",
       "      <th>57</th>\n",
       "      <td>5</td>\n",
       "      <td>France</td>\n",
       "      <td>46.0000</td>\n",
       "      <td>2.0000</td>\n",
       "    </tr>\n",
       "    <tr>\n",
       "      <th>167</th>\n",
       "      <td>6</td>\n",
       "      <td>Turkey</td>\n",
       "      <td>39.0000</td>\n",
       "      <td>35.0000</td>\n",
       "    </tr>\n",
       "    <tr>\n",
       "      <th>169</th>\n",
       "      <td>7</td>\n",
       "      <td>UK</td>\n",
       "      <td>54.0000</td>\n",
       "      <td>-2.0000</td>\n",
       "    </tr>\n",
       "    <tr>\n",
       "      <th>6</th>\n",
       "      <td>8</td>\n",
       "      <td>Argentina</td>\n",
       "      <td>-34.0000</td>\n",
       "      <td>-64.0000</td>\n",
       "    </tr>\n",
       "    <tr>\n",
       "      <th>35</th>\n",
       "      <td>9</td>\n",
       "      <td>Colombia</td>\n",
       "      <td>4.0000</td>\n",
       "      <td>-72.0000</td>\n",
       "    </tr>\n",
       "    <tr>\n",
       "      <th>79</th>\n",
       "      <td>10</td>\n",
       "      <td>Italy</td>\n",
       "      <td>42.8333</td>\n",
       "      <td>12.8333</td>\n",
       "    </tr>\n",
       "  </tbody>\n",
       "</table>\n",
       "</div>"
      ],
      "text/plain": [
       "     Rank    Country  Latitude  Longitude\n",
       "170     1        USA   38.0000   -97.0000\n",
       "73      2      India   20.0000    77.0000\n",
       "23      3     Brazil  -10.0000   -55.0000\n",
       "131     4     Russia   60.0000   100.0000\n",
       "57      5     France   46.0000     2.0000\n",
       "167     6     Turkey   39.0000    35.0000\n",
       "169     7         UK   54.0000    -2.0000\n",
       "6       8  Argentina  -34.0000   -64.0000\n",
       "35      9   Colombia    4.0000   -72.0000\n",
       "79     10      Italy   42.8333    12.8333"
      ]
     },
     "execution_count": 30,
     "metadata": {},
     "output_type": "execute_result"
    }
   ],
   "source": [
    "most_dailycases_df = main_covid_df.sort_values(['Cases'], ascending = False).head(10)\n",
    "most_dailycases_df['Rank'] = range(1,11,1)\n",
    "most_dailycases_df[['Rank','Country','Latitude','Longitude']]"
   ]
  },
  {
   "cell_type": "code",
   "execution_count": 31,
   "id": "69ed2a95",
   "metadata": {},
   "outputs": [],
   "source": [
    "\n",
    "loc = most_dailycases_df[[\"Latitude\", \"Longitude\"]]\n",
    "Daily_New_case = most_dailycases_df['Cases']"
   ]
  },
  {
   "cell_type": "code",
   "execution_count": 32,
   "id": "a145a85e",
   "metadata": {
    "scrolled": true
   },
   "outputs": [
    {
     "data": {
      "application/vnd.jupyter.widget-view+json": {
       "model_id": "9db6c373a9b2427994153a53dc5be547",
       "version_major": 2,
       "version_minor": 0
      },
      "text/plain": [
       "Figure(layout=FigureLayout(height='420px'))"
      ]
     },
     "metadata": {},
     "output_type": "display_data"
    }
   ],
   "source": [
    "fig = gmaps.figure(center=(45.0, -5.0), zoom_level=2)\n",
    "heat = gmaps.heatmap_layer(loc, weights = Daily_New_case, dissipating=False, point_radius=8)\n",
    "fig.add_layer(heat)\n",
    "\n",
    "info_box_template = \"\"\"\n",
    "<dl>\n",
    "\n",
    "<dt>Rank</dt><dd>{Rank}</dd>\n",
    "<dt>Country</dt><dd>{Country}</dd>\n",
    "</dl>\n",
    "\"\"\"\n",
    "# Store the DataFrame Row\n",
    "# NOTE: be sure to update with your DataFrame name\n",
    "cases_info = [info_box_template.format(**row) for index, row in most_dailycases_df.iterrows()]\n",
    "locations = most_dailycases_df[[\"Latitude\", \"Longitude\"]]\n",
    "\n",
    "marker = gmaps.marker_layer(locations, info_box_content = cases_info)\n",
    "fig.add_layer(marker)\n",
    "\n",
    "fig\n",
    "\n"
   ]
  },
  {
   "cell_type": "markdown",
   "id": "3cfd5c9a",
   "metadata": {},
   "source": [
    "#### Inference:\n",
    "Current top three countries affected by highest covid cases are USA, India and Brazil respectively."
   ]
  },
  {
   "cell_type": "markdown",
   "id": "fa9ce9fe",
   "metadata": {},
   "source": [
    "## 4-CASES AND RECOVERED STACK PLOT BY REGION"
   ]
  },
  {
   "cell_type": "code",
   "execution_count": 33,
   "id": "0a672cdf",
   "metadata": {},
   "outputs": [
    {
     "data": {
      "text/html": [
       "<div>\n",
       "<style scoped>\n",
       "    .dataframe tbody tr th:only-of-type {\n",
       "        vertical-align: middle;\n",
       "    }\n",
       "\n",
       "    .dataframe tbody tr th {\n",
       "        vertical-align: top;\n",
       "    }\n",
       "\n",
       "    .dataframe thead th {\n",
       "        text-align: right;\n",
       "    }\n",
       "</style>\n",
       "<table border=\"1\" class=\"dataframe\">\n",
       "  <thead>\n",
       "    <tr style=\"text-align: right;\">\n",
       "      <th></th>\n",
       "      <th>Continent</th>\n",
       "      <th>Cases</th>\n",
       "      <th>Deaths</th>\n",
       "      <th>Recovered</th>\n",
       "      <th>Vaccination_count</th>\n",
       "      <th>Latitude</th>\n",
       "      <th>Longitude</th>\n",
       "      <th>Population</th>\n",
       "      <th>Unvaccination_count</th>\n",
       "    </tr>\n",
       "  </thead>\n",
       "  <tbody>\n",
       "    <tr>\n",
       "      <th>0</th>\n",
       "      <td>Africa</td>\n",
       "      <td>6254015</td>\n",
       "      <td>158627</td>\n",
       "      <td>5423218</td>\n",
       "      <td>62400333</td>\n",
       "      <td>152.0603</td>\n",
       "      <td>836.8736</td>\n",
       "      <td>1296038236</td>\n",
       "      <td>1233637903</td>\n",
       "    </tr>\n",
       "    <tr>\n",
       "      <th>1</th>\n",
       "      <td>Asia</td>\n",
       "      <td>58696833</td>\n",
       "      <td>840426</td>\n",
       "      <td>55133052</td>\n",
       "      <td>2320288907</td>\n",
       "      <td>1152.7375</td>\n",
       "      <td>3418.3248</td>\n",
       "      <td>4578016243</td>\n",
       "      <td>2257727336</td>\n",
       "    </tr>\n",
       "  </tbody>\n",
       "</table>\n",
       "</div>"
      ],
      "text/plain": [
       "  Continent     Cases  Deaths  Recovered  Vaccination_count   Latitude  \\\n",
       "0    Africa   6254015  158627    5423218           62400333   152.0603   \n",
       "1      Asia  58696833  840426   55133052         2320288907  1152.7375   \n",
       "\n",
       "   Longitude  Population  Unvaccination_count  \n",
       "0   836.8736  1296038236           1233637903  \n",
       "1  3418.3248  4578016243           2257727336  "
      ]
     },
     "execution_count": 33,
     "metadata": {},
     "output_type": "execute_result"
    }
   ],
   "source": [
    "region = main_covid_df.groupby(\"Continent\").sum().reset_index()\n",
    "region.head(2)"
   ]
  },
  {
   "cell_type": "code",
   "execution_count": 34,
   "id": "b022e9af",
   "metadata": {},
   "outputs": [
    {
     "data": {
      "text/html": [
       "<div>\n",
       "<style scoped>\n",
       "    .dataframe tbody tr th:only-of-type {\n",
       "        vertical-align: middle;\n",
       "    }\n",
       "\n",
       "    .dataframe tbody tr th {\n",
       "        vertical-align: top;\n",
       "    }\n",
       "\n",
       "    .dataframe thead th {\n",
       "        text-align: right;\n",
       "    }\n",
       "</style>\n",
       "<table border=\"1\" class=\"dataframe\">\n",
       "  <thead>\n",
       "    <tr style=\"text-align: right;\">\n",
       "      <th></th>\n",
       "      <th>Continent</th>\n",
       "      <th>Cases</th>\n",
       "      <th>Deaths</th>\n",
       "      <th>Recovered</th>\n",
       "      <th>Vaccination_count</th>\n",
       "      <th>Population</th>\n",
       "    </tr>\n",
       "  </thead>\n",
       "  <tbody>\n",
       "    <tr>\n",
       "      <th>0</th>\n",
       "      <td>Africa</td>\n",
       "      <td>6254015</td>\n",
       "      <td>158627</td>\n",
       "      <td>5423218</td>\n",
       "      <td>62400333</td>\n",
       "      <td>1296038236</td>\n",
       "    </tr>\n",
       "    <tr>\n",
       "      <th>1</th>\n",
       "      <td>Asia</td>\n",
       "      <td>58696833</td>\n",
       "      <td>840426</td>\n",
       "      <td>55133052</td>\n",
       "      <td>2320288907</td>\n",
       "      <td>4578016243</td>\n",
       "    </tr>\n",
       "    <tr>\n",
       "      <th>2</th>\n",
       "      <td>Australia-Oceania</td>\n",
       "      <td>59427</td>\n",
       "      <td>1147</td>\n",
       "      <td>43705</td>\n",
       "      <td>12299206</td>\n",
       "      <td>42076450</td>\n",
       "    </tr>\n",
       "    <tr>\n",
       "      <th>3</th>\n",
       "      <td>Europe</td>\n",
       "      <td>49865619</td>\n",
       "      <td>1119035</td>\n",
       "      <td>27331480</td>\n",
       "      <td>599144484</td>\n",
       "      <td>747776104</td>\n",
       "    </tr>\n",
       "    <tr>\n",
       "      <th>4</th>\n",
       "      <td>North America</td>\n",
       "      <td>39650705</td>\n",
       "      <td>895860</td>\n",
       "      <td>3945125</td>\n",
       "      <td>469708307</td>\n",
       "      <td>592667384</td>\n",
       "    </tr>\n",
       "    <tr>\n",
       "      <th>5</th>\n",
       "      <td>South America</td>\n",
       "      <td>34616050</td>\n",
       "      <td>1055426</td>\n",
       "      <td>31676233</td>\n",
       "      <td>235134103</td>\n",
       "      <td>434303246</td>\n",
       "    </tr>\n",
       "  </tbody>\n",
       "</table>\n",
       "</div>"
      ],
      "text/plain": [
       "           Continent     Cases   Deaths  Recovered  Vaccination_count  \\\n",
       "0             Africa   6254015   158627    5423218           62400333   \n",
       "1               Asia  58696833   840426   55133052         2320288907   \n",
       "2  Australia-Oceania     59427     1147      43705           12299206   \n",
       "3             Europe  49865619  1119035   27331480          599144484   \n",
       "4      North America  39650705   895860    3945125          469708307   \n",
       "5      South America  34616050  1055426   31676233          235134103   \n",
       "\n",
       "   Population  \n",
       "0  1296038236  \n",
       "1  4578016243  \n",
       "2    42076450  \n",
       "3   747776104  \n",
       "4   592667384  \n",
       "5   434303246  "
      ]
     },
     "execution_count": 34,
     "metadata": {},
     "output_type": "execute_result"
    }
   ],
   "source": [
    "region_df = region[['Continent','Cases','Deaths','Recovered','Vaccination_count','Population']]\n",
    "region_df"
   ]
  },
  {
   "cell_type": "code",
   "execution_count": 35,
   "id": "c9a403ab",
   "metadata": {},
   "outputs": [
    {
     "data": {
      "image/png": "[encoded data removed]",
      "text/plain": [
       "<Figure size 1080x576 with 1 Axes>"
      ]
     },
     "metadata": {
      "needs_background": "light"
     },
     "output_type": "display_data"
    }
   ],
   "source": [
    "import seaborn as sns\n",
    "\n",
    "fig, ax = plt.subplots(figsize=(15,8))\n",
    "pal = sns.color_palette(\"Set1\")\n",
    "plt.stackplot(region_df['Continent'],region_df[\"Cases\"], region_df[\"Recovered\"], labels=['Cases','Recovered'],colors=pal, alpha=0.4)\n",
    "plt.legend(loc='upper right')\n",
    "plt.title(\"Cases and recovered stackplot\")\n",
    "plt.xlabel(\"Continent\")\n",
    "plt.ylabel(\"Count\")\n",
    "plt.xticks(rotation=90)\n",
    "#plt.figure(figsize=(15, 10))\n",
    "\n",
    "plt.show()"
   ]
  },
  {
   "cell_type": "markdown",
   "id": "ea9bafe1",
   "metadata": {},
   "source": [
    "#### Inference:\n",
    "Above plot shows us that recovery rate is also higher compared to covid cases across continent"
   ]
  },
  {
   "cell_type": "markdown",
   "id": "4c1605cc",
   "metadata": {},
   "source": [
    "## 5-OVERALL SUMMARY BY REGION"
   ]
  },
  {
   "cell_type": "code",
   "execution_count": 36,
   "id": "3d196655",
   "metadata": {},
   "outputs": [
    {
     "data": {
      "text/plain": [
       "Text(0, 0.5, 'Count')"
      ]
     },
     "execution_count": 36,
     "metadata": {},
     "output_type": "execute_result"
    },
    {
     "data": {
      "image/png": "[encoded data removed]",
      "text/plain": [
       "<Figure size 1080x576 with 1 Axes>"
      ]
     },
     "metadata": {
      "needs_background": "light"
     },
     "output_type": "display_data"
    }
   ],
   "source": [
    "\n",
    "CCR = region[['Continent','Cases','Deaths','Recovered']]\n",
    "CCR.plot(x='Continent', kind='bar', stacked=True,\n",
    "        title='Stacked Bar Graph by Continent', figsize=(15, 8))\n",
    "\n",
    "plt.ylabel(\"Count\")"
   ]
  },
  {
   "cell_type": "markdown",
   "id": "f06d493f",
   "metadata": {},
   "source": [
    "#### Inference:\n",
    "From the above plot we can infer that Asia was badly affected by covid by also recovered more. \n",
    "Australia-Ocenia is least affected by covid cases compared to other continents"
   ]
  },
  {
   "cell_type": "markdown",
   "id": "8d0fc99c",
   "metadata": {},
   "source": [
    "## 6-CORRELATION MATRIX"
   ]
  },
  {
   "cell_type": "code",
   "execution_count": 52,
   "id": "7e67a2d4",
   "metadata": {},
   "outputs": [
    {
     "data": {
      "image/png": "[encoded data removed]",
      "text/plain": [
       "<Figure size 720x576 with 2 Axes>"
      ]
     },
     "metadata": {},
     "output_type": "display_data"
    }
   ],
   "source": [
    "#plotting heat map to find the correlation between mutiple columns\n",
    "plt.figure(figsize=(10, 8))\n",
    "heatmap = sns.heatmap(main_covid_df[['Cases','Deaths','Recovered','Vaccination_count','Population','Unvaccination_count']].corr(), vmin=-1, vmax=1, annot=True)\n",
    "\n",
    "heatmap.set_title('Correlation Heatmap', fontdict={'fontsize':14}, pad=12);"
   ]
  },
  {
   "cell_type": "markdown",
   "id": "b5269c38",
   "metadata": {},
   "source": [
    "#### Inference:\n",
    "From the above matrix we can see that there is a highest correlation between cases and deaths. High correlation have lighter color and value closer to 1. Least correlation have darker color in the matrix."
   ]
  },
  {
   "cell_type": "markdown",
   "id": "5a5c745a",
   "metadata": {},
   "source": [
    "## 7-TOP 10 COUNTRIES WITH HIGHEST DEATH COUNT"
   ]
  },
  {
   "cell_type": "code",
   "execution_count": 38,
   "id": "0d6f122d",
   "metadata": {},
   "outputs": [
    {
     "data": {
      "image/png": "[encoded data removed]",
      "text/plain": [
       "<Figure size 1080x576 with 1 Axes>"
      ]
     },
     "metadata": {
      "needs_background": "light"
     },
     "output_type": "display_data"
    },
    {
     "data": {
      "text/plain": [
       "<Figure size 432x288 with 0 Axes>"
      ]
     },
     "metadata": {},
     "output_type": "display_data"
    }
   ],
   "source": [
    "Covid_Deaths_Country = main_covid_df[['Country',\"Deaths\"]].sort_values(['Deaths'], ascending = False).head(10)\n",
    "multi_plot = Covid_Deaths_Country.plot(kind=\"bar\", figsize=(15,8))\n",
    "\n",
    "multi_plot.set_xticklabels(Covid_Deaths_Country[\"Country\"], rotation=45)\n",
    "plt.title(\"Top 10 Countries with Highest Death Count\")\n",
    "plt.xlabel(\"Country\")\n",
    "plt.ylabel(\"Count\")\n",
    "plt.show()\n",
    "plt.tight_layout()"
   ]
  },
  {
   "cell_type": "markdown",
   "id": "f18e97e3",
   "metadata": {},
   "source": [
    "#### Inference:\n",
    "Current top three countries affected by highest covid deaths are USA, Brazil and India respectively."
   ]
  },
  {
   "cell_type": "markdown",
   "id": "80e864ae",
   "metadata": {},
   "source": [
    "## LINEAR REGRESSION"
   ]
  },
  {
   "cell_type": "code",
   "execution_count": 39,
   "id": "4f2ee19b",
   "metadata": {},
   "outputs": [
    {
     "name": "stdout",
     "output_type": "stream",
     "text": [
      "The p-value for cases and vaccination is 4.9763435009705676e-06\n"
     ]
    },
    {
     "data": {
      "image/png": "[encoded data removed]",
      "text/plain": [
       "<Figure size 1080x360 with 1 Axes>"
      ]
     },
     "metadata": {
      "needs_background": "light"
     },
     "output_type": "display_data"
    }
   ],
   "source": [
    "import seaborn as sns\n",
    "\n",
    "import scipy.stats as st\n",
    "from scipy.stats import linregress\n",
    "\n",
    "fig, ax = plt.subplots(figsize=(15,5))\n",
    "\n",
    "\n",
    "# get coeffs of linear fit\n",
    "slope, intercept, r_value, p_value, std_err = st.linregress(main_covid_df['Cases'],\n",
    "                                                            main_covid_df['Vaccination_count'])\n",
    "\n",
    "p=sns.regplot(data=main_covid_df,\n",
    "               x='Vaccination_count',\n",
    "               y='Cases',\n",
    "               line_kws={'label':\"y={0:.1f}x+{1:.1f}\".format(slope,intercept)}\n",
    ").set(title='World Covid Cases Vs Vaccinations ')\n",
    "    \n",
    "# plot legend\n",
    "ax.legend()\n",
    "leg=ax.get_legend()\n",
    "L_labels=leg.get_texts()\n",
    "                                  \n",
    "sns.set_style(style=\"white\")\n",
    "sns.set(font_scale = 1.5)\n",
    "locs, labels = plt.xticks()\n",
    "\n",
    "print(f'The p-value for cases and vaccination is {p_value}')\n",
    "plt.show()"
   ]
  },
  {
   "cell_type": "markdown",
   "id": "ffc7d48f",
   "metadata": {},
   "source": [
    "#### Inference:\n",
    "\n",
    "Based on recent data we see positive correlation between cases and vaccination count. Currently due to increase in delta variant we see that even though when people are vaccinated there is still increase in cases around the world"
   ]
  },
  {
   "cell_type": "markdown",
   "id": "fd45d5a0",
   "metadata": {},
   "source": [
    "## PEARSON'S CORRELATION COEFFICIENT"
   ]
  },
  {
   "cell_type": "markdown",
   "id": "e8351c49",
   "metadata": {},
   "source": [
    "### Hypothesis\n",
    "\n",
    "#### - H0: Cases and Vaccination are independent\n",
    "#### - H1: There is a dependency between Cases and Vaccination"
   ]
  },
  {
   "cell_type": "code",
   "execution_count": 40,
   "id": "bbe29936",
   "metadata": {},
   "outputs": [
    {
     "name": "stdout",
     "output_type": "stream",
     "text": [
      "The correlation between cases and vaccination is 0.33\n",
      "The p-value for cases and vaccination is 4.976343500971269e-06\n"
     ]
    }
   ],
   "source": [
    "import scipy.stats as st\n",
    "from scipy.stats import linregress\n",
    "\n",
    "correlation=round(st.pearsonr(main_covid_df['Vaccination_count'],main_covid_df['Cases'])[0],2)\n",
    "p_value = st.pearsonr(main_covid_df['Vaccination_count'],main_covid_df['Cases'])[1]\n",
    "print(f\"The correlation between cases and vaccination is {correlation}\")\n",
    "print(f\"The p-value for cases and vaccination is {p_value}\")"
   ]
  },
  {
   "cell_type": "code",
   "execution_count": 41,
   "id": "4824aa51",
   "metadata": {},
   "outputs": [
    {
     "name": "stdout",
     "output_type": "stream",
     "text": [
      "Probably cases and vaccination have correlation\n"
     ]
    }
   ],
   "source": [
    "if p_value > 0.05:\n",
    "\tprint('Probably cases and vaccination are not correlated')\n",
    "else:\n",
    "\tprint('Probably cases and vaccination have correlation')"
   ]
  },
  {
   "cell_type": "markdown",
   "id": "22549d41",
   "metadata": {},
   "source": [
    "#### Inference:\n",
    "\n",
    "Since p-value is less than 0.05 we can reject null hypothesis and accept the alternate hypothesis that there is a dependency between cases and vaccination"
   ]
  },
  {
   "cell_type": "markdown",
   "id": "368cf50a",
   "metadata": {},
   "source": [
    "## TREND OF COVID CASES ACROSS WORLD"
   ]
  },
  {
   "cell_type": "code",
   "execution_count": 42,
   "id": "d2dedea4",
   "metadata": {},
   "outputs": [],
   "source": [
    "cases_by_date_top_countries = (covid_df\n",
    "                           .filter(['Date','Country','Cases'])\n",
    "                           .query('Country in [\"USA\",\"India\",\"UK\"]')\n",
    "                           .groupby(['Date','Country'])\n",
    "                           .agg('sum')\n",
    "                           .reset_index()\n",
    "                           )"
   ]
  },
  {
   "cell_type": "code",
   "execution_count": 43,
   "id": "ee437748",
   "metadata": {},
   "outputs": [
    {
     "data": {
      "image/png": "[encoded data removed]",
      "text/plain": [
       "<Figure size 1224x504 with 1 Axes>"
      ]
     },
     "metadata": {},
     "output_type": "display_data"
    }
   ],
   "source": [
    "fig, ax = plt.subplots(figsize=(17,7))\n",
    "sns.lineplot(data = cases_by_date_top_countries\n",
    "             ,x = 'Date'\n",
    "             ,y = 'Cases'\n",
    "             ,hue = 'Country'\n",
    "             ,legend=True\n",
    "             ,ax=ax\n",
    "             ).set(title='Covid Cases for last 30 days')\n",
    "sns.set(font_scale = 1.5)\n",
    "sns.set_style(\"whitegrid\")\n",
    "locs, labels = plt.xticks()\n",
    "plt.setp(labels, rotation=90)\n",
    "plt.show()"
   ]
  },
  {
   "cell_type": "markdown",
   "id": "7602e497",
   "metadata": {},
   "source": [
    "#### Inference:\n",
    "\n",
    "From the above plot we can see that for past 30 days there is a steady increase in cases for all the countries taken into consideration"
   ]
  },
  {
   "cell_type": "markdown",
   "id": "59b68c0d",
   "metadata": {},
   "source": [
    "## AUGMENTED DICKEY FULLER TEST"
   ]
  },
  {
   "cell_type": "markdown",
   "id": "9c3ad971",
   "metadata": {},
   "source": [
    "#### - Tests whether a time series has a unit root\n",
    "\n",
    "\n",
    "\n",
    "\n"
   ]
  },
  {
   "cell_type": "markdown",
   "id": "ef7f02af",
   "metadata": {},
   "source": [
    "## Hypothesis\n",
    "\n",
    "#### -  H0: a unit root is present (series is non-stationary).\n",
    "#### -  H1: a unit root is not present (series is stationary)."
   ]
  },
  {
   "cell_type": "code",
   "execution_count": 44,
   "id": "872a3c43",
   "metadata": {},
   "outputs": [],
   "source": [
    "from statsmodels.tsa.stattools import adfuller\n",
    "import numpy \n",
    "usa = covid_df.loc[covid_df['Country'] == 'USA']\n"
   ]
  },
  {
   "cell_type": "code",
   "execution_count": 45,
   "id": "02f568f7",
   "metadata": {},
   "outputs": [
    {
     "data": {
      "text/plain": [
       "28"
      ]
     },
     "execution_count": 45,
     "metadata": {},
     "output_type": "execute_result"
    }
   ],
   "source": [
    "us_dc = []\n",
    "\n",
    "\n",
    "for i in range(1,len(usa)):\n",
    "    diff = usa.iloc[i]['Cases'] -  usa.iloc[i-1]['Cases']\n",
    "    us_dc.append(diff)\n",
    "len(us_dc) "
   ]
  },
  {
   "cell_type": "code",
   "execution_count": 46,
   "id": "6fb0ae86",
   "metadata": {},
   "outputs": [],
   "source": [
    "usa_t = numpy.asarray(us_dc)"
   ]
  },
  {
   "cell_type": "code",
   "execution_count": 47,
   "id": "b642a47a",
   "metadata": {},
   "outputs": [
    {
     "data": {
      "text/plain": [
       "array([ 24224,  22931,  20061,  48241,   9038,   6164,  35013,  26424,\n",
       "        31845,  28412,  79310,  12960,  12048,  52111,  42703,  52032,\n",
       "        55077, 118797,  27395,  16008,  89096,  70740,  68771,  78170,\n",
       "       194608,  32808,  25141, 127976], dtype=int64)"
      ]
     },
     "execution_count": 47,
     "metadata": {},
     "output_type": "execute_result"
    }
   ],
   "source": [
    "\n",
    "usa_t"
   ]
  },
  {
   "cell_type": "code",
   "execution_count": 48,
   "id": "d90f4adf",
   "metadata": {},
   "outputs": [
    {
     "data": {
      "text/plain": [
       "<Figure size 1080x576 with 0 Axes>"
      ]
     },
     "execution_count": 48,
     "metadata": {},
     "output_type": "execute_result"
    },
    {
     "data": {
      "image/png": "[encoded data removed]",
      "text/plain": [
       "<Figure size 432x288 with 1 Axes>"
      ]
     },
     "metadata": {},
     "output_type": "display_data"
    },
    {
     "data": {
      "text/plain": [
       "<Figure size 1080x576 with 0 Axes>"
      ]
     },
     "metadata": {},
     "output_type": "display_data"
    }
   ],
   "source": [
    "plt.plot(usa_t)\n",
    "plt.title(\"Daily Covid Cases of USA for last 30 days\")\n",
    "plt.xlabel(\"Days\")\n",
    "plt.ylabel(\"Count\")\n",
    "plt.figure(figsize=(15, 8))\n"
   ]
  },
  {
   "cell_type": "code",
   "execution_count": 49,
   "id": "27220774",
   "metadata": {},
   "outputs": [
    {
     "name": "stdout",
     "output_type": "stream",
     "text": [
      "ADF Statistic: 3.133236\n",
      "p-value: 1.000000\n",
      "Critical Values:\n",
      "\t1%: -3.809\n",
      "\t5%: -3.022\n",
      "\t10%: -2.651\n",
      "Failed to Reject Ho - Time Series is Non-Stationary\n"
     ]
    }
   ],
   "source": [
    "X = usa_t\n",
    "result = adfuller(X)\n",
    "print('ADF Statistic: %f' % result[0])\n",
    "print('p-value: %f' % result[1])\n",
    "print('Critical Values:')\n",
    "for key, value in result[4].items():\n",
    "    print('\\t%s: %.3f' % (key, value))\n",
    "\n",
    "if result[0] < result[4][\"5%\"]:\n",
    "    print (\"Reject Ho - Time Series is Stationary\")\n",
    "else:\n",
    "    print (\"Failed to Reject Ho - Time Series is Non-Stationary\")"
   ]
  },
  {
   "cell_type": "code",
   "execution_count": null,
   "id": "baa1a4c6",
   "metadata": {},
   "outputs": [],
   "source": []
  },
  {
   "cell_type": "markdown",
   "id": "0d21012b",
   "metadata": {},
   "source": [
    "#### Inference:\n",
    "\n",
    "As p_value is greater than 0.05 and ADF statistic > greater than critical value we fail to reject null hypothesis.So the time series data is non stationary"
   ]
  },
  {
   "cell_type": "markdown",
   "id": "a1acdbad",
   "metadata": {},
   "source": [
    "## REFERENCES"
   ]
  },
  {
   "cell_type": "markdown",
   "id": "4f4b105f",
   "metadata": {},
   "source": [
    "#### Statistics:\n",
    " \n",
    " - https://machinelearningmastery.com/statistical-hypothesis-tests-in-python-cheat-sheet/\n",
    " - https://www.kaggle.com/hamelg/python-for-data-24-hypothesis-testing\n",
    " - https://regenerativetoday.com/a-complete-guide-to-hypothesis-testing-and-examples-in-python/\n",
    "\n"
   ]
  },
  {
   "cell_type": "code",
   "execution_count": null,
   "id": "4f57afc8",
   "metadata": {},
   "outputs": [],
   "source": []
  },
  {
   "cell_type": "code",
   "execution_count": null,
   "id": "4828da62",
   "metadata": {},
   "outputs": [],
   "source": []
  }
 ],
 "metadata": {
  "kernelspec": {
   "display_name": "Python 3",
   "language": "python",
   "name": "python3"
  },
  "language_info": {
   "codemirror_mode": {
    "name": "ipython",
    "version": 3
   },
   "file_extension": ".py",
   "mimetype": "text/x-python",
   "name": "python",
   "nbconvert_exporter": "python",
   "pygments_lexer": "ipython3",
   "version": "3.8.8"
  }
 },
 "nbformat": 4,
 "nbformat_minor": 5
}
