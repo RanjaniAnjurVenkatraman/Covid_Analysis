{
 "cells": [
  {
   "cell_type": "code",
   "execution_count": 1,
   "id": "f32d9a2d",
   "metadata": {},
   "outputs": [],
   "source": [
    "import requests\n",
    "import json\n",
    "import pandas as pd\n",
    "import numpy as np\n",
    "import matplotlib.pyplot as plt\n",
    "from pprint import pprint\n",
    "from datetime import datetime"
   ]
  },
  {
   "cell_type": "code",
   "execution_count": 2,
   "id": "98a1e4e9",
   "metadata": {},
   "outputs": [
    {
     "data": {
      "text/plain": [
       "213"
      ]
     },
     "execution_count": 2,
     "metadata": {},
     "output_type": "execute_result"
    }
   ],
   "source": [
    "vaccination = requests.get(\"https://disease.sh/v3/covid-19/vaccine/coverage/countries?lastdays=30\").json()\n",
    "#pprint(vaccination)\n",
    "len(vaccination)"
   ]
  },
  {
   "cell_type": "code",
   "execution_count": 3,
   "id": "c0996eba",
   "metadata": {},
   "outputs": [],
   "source": [
    "vaccine_days = []\n",
    "\n",
    "vaccine_keys = vaccination[0][\"timeline\"].keys()\n",
    "\n",
    "for value in vaccine_keys:\n",
    "    vaccine_days.append(value)\n",
    "\n",
    "#vaccine_days"
   ]
  },
  {
   "cell_type": "code",
   "execution_count": 4,
   "id": "98859d1e",
   "metadata": {},
   "outputs": [],
   "source": [
    "country = []\n",
    "vaccine =[]\n",
    "v_date = []\n",
    "for i in range(len(vaccination)): \n",
    "       \n",
    "    \n",
    "    for j in vaccine_days:\n",
    "        \n",
    "        try:\n",
    "             \n",
    "            vaccine.append(vaccination[i][\"timeline\"][j])\n",
    "            country.append(vaccination[i][\"country\"])\n",
    "            v_date.append(j)\n",
    "        except:\n",
    "            pass\n",
    "\n"
   ]
  },
  {
   "cell_type": "code",
   "execution_count": 5,
   "id": "8113c96b",
   "metadata": {},
   "outputs": [
    {
     "data": {
      "text/plain": [
       "6367"
      ]
     },
     "execution_count": 5,
     "metadata": {},
     "output_type": "execute_result"
    }
   ],
   "source": [
    "len(country)"
   ]
  },
  {
   "cell_type": "code",
   "execution_count": 6,
   "id": "34947077",
   "metadata": {},
   "outputs": [
    {
     "data": {
      "text/plain": [
       "6367"
      ]
     },
     "execution_count": 6,
     "metadata": {},
     "output_type": "execute_result"
    }
   ],
   "source": [
    "len(vaccine)"
   ]
  },
  {
   "cell_type": "code",
   "execution_count": 7,
   "id": "0b095451",
   "metadata": {},
   "outputs": [
    {
     "data": {
      "text/plain": [
       "6367"
      ]
     },
     "execution_count": 7,
     "metadata": {},
     "output_type": "execute_result"
    }
   ],
   "source": [
    "len(v_date)"
   ]
  },
  {
   "cell_type": "code",
   "execution_count": 8,
   "id": "054b43c6",
   "metadata": {},
   "outputs": [
    {
     "data": {
      "text/html": [
       "<div>\n",
       "<style scoped>\n",
       "    .dataframe tbody tr th:only-of-type {\n",
       "        vertical-align: middle;\n",
       "    }\n",
       "\n",
       "    .dataframe tbody tr th {\n",
       "        vertical-align: top;\n",
       "    }\n",
       "\n",
       "    .dataframe thead th {\n",
       "        text-align: right;\n",
       "    }\n",
       "</style>\n",
       "<table border=\"1\" class=\"dataframe\">\n",
       "  <thead>\n",
       "    <tr style=\"text-align: right;\">\n",
       "      <th></th>\n",
       "      <th>Country</th>\n",
       "      <th>Date</th>\n",
       "      <th>Vaccination_count</th>\n",
       "    </tr>\n",
       "  </thead>\n",
       "  <tbody>\n",
       "    <tr>\n",
       "      <th>0</th>\n",
       "      <td>Afghanistan</td>\n",
       "      <td>7/1/21</td>\n",
       "      <td>900969</td>\n",
       "    </tr>\n",
       "    <tr>\n",
       "      <th>1</th>\n",
       "      <td>Afghanistan</td>\n",
       "      <td>7/2/21</td>\n",
       "      <td>913913</td>\n",
       "    </tr>\n",
       "  </tbody>\n",
       "</table>\n",
       "</div>"
      ],
      "text/plain": [
       "       Country    Date  Vaccination_count\n",
       "0  Afghanistan  7/1/21             900969\n",
       "1  Afghanistan  7/2/21             913913"
      ]
     },
     "execution_count": 8,
     "metadata": {},
     "output_type": "execute_result"
    }
   ],
   "source": [
    "world_vaccination_df = pd.DataFrame({\n",
    "                                \"Country\" : country,\n",
    "                                \"Date\" : v_date,\n",
    "                                \"Vaccination_count\" : vaccine\n",
    "    \n",
    "})\n",
    "\n",
    "world_vaccination_df.head(2)"
   ]
  },
  {
   "cell_type": "code",
   "execution_count": 9,
   "id": "02d3e731",
   "metadata": {},
   "outputs": [],
   "source": [
    "world_data = requests.get(\"https://disease.sh/v3/covid-19/historical/\").json()\n",
    "#pprint(world_data)"
   ]
  },
  {
   "cell_type": "code",
   "execution_count": 10,
   "id": "fcaca0ec",
   "metadata": {},
   "outputs": [
    {
     "data": {
      "text/plain": [
       "279"
      ]
     },
     "execution_count": 10,
     "metadata": {},
     "output_type": "execute_result"
    }
   ],
   "source": [
    "len(world_data)"
   ]
  },
  {
   "cell_type": "code",
   "execution_count": 11,
   "id": "5d52987a",
   "metadata": {},
   "outputs": [],
   "source": [
    "world_days = []\n",
    "\n",
    "world_keys = world_data[0][\"timeline\"]['cases'].keys()\n",
    "\n",
    "for value in world_keys:\n",
    "    world_days.append(value)\n",
    "\n",
    "#world_days"
   ]
  },
  {
   "cell_type": "code",
   "execution_count": 12,
   "id": "5c1194c2",
   "metadata": {},
   "outputs": [],
   "source": [
    "country = []\n",
    "cases =[]\n",
    "deaths = []\n",
    "recovered = []\n",
    "w_date = []\n",
    "for i in range(len(world_data)): \n",
    "       \n",
    "    \n",
    "    for j in world_days:\n",
    "        \n",
    "        try:\n",
    "             \n",
    "            cases.append(world_data[i]['timeline']['cases'][j])\n",
    "            deaths.append(world_data[i]['timeline']['deaths'][j])\n",
    "            recovered.append(world_data[i]['timeline']['recovered'][j])\n",
    "            country.append(world_data[i][\"country\"])\n",
    "            w_date.append(j)\n",
    "        except:\n",
    "            pass\n",
    "\n"
   ]
  },
  {
   "cell_type": "code",
   "execution_count": 13,
   "id": "3bc05bc0",
   "metadata": {},
   "outputs": [
    {
     "data": {
      "text/plain": [
       "8370"
      ]
     },
     "execution_count": 13,
     "metadata": {},
     "output_type": "execute_result"
    }
   ],
   "source": [
    "len(cases)"
   ]
  },
  {
   "cell_type": "code",
   "execution_count": 14,
   "id": "66b51146",
   "metadata": {},
   "outputs": [
    {
     "data": {
      "text/plain": [
       "8370"
      ]
     },
     "execution_count": 14,
     "metadata": {},
     "output_type": "execute_result"
    }
   ],
   "source": [
    "len(deaths)"
   ]
  },
  {
   "cell_type": "code",
   "execution_count": 15,
   "id": "e7d40395",
   "metadata": {},
   "outputs": [
    {
     "data": {
      "text/plain": [
       "8370"
      ]
     },
     "execution_count": 15,
     "metadata": {},
     "output_type": "execute_result"
    }
   ],
   "source": [
    "len(recovered)"
   ]
  },
  {
   "cell_type": "code",
   "execution_count": 16,
   "id": "87b9ade4",
   "metadata": {},
   "outputs": [
    {
     "data": {
      "text/plain": [
       "8370"
      ]
     },
     "execution_count": 16,
     "metadata": {},
     "output_type": "execute_result"
    }
   ],
   "source": [
    "len(country)"
   ]
  },
  {
   "cell_type": "code",
   "execution_count": 17,
   "id": "bb5d59a9",
   "metadata": {},
   "outputs": [
    {
     "data": {
      "text/plain": [
       "8370"
      ]
     },
     "execution_count": 17,
     "metadata": {},
     "output_type": "execute_result"
    }
   ],
   "source": [
    "len(w_date)"
   ]
  },
  {
   "cell_type": "code",
   "execution_count": 18,
   "id": "87ba242c",
   "metadata": {},
   "outputs": [
    {
     "data": {
      "text/html": [
       "<div>\n",
       "<style scoped>\n",
       "    .dataframe tbody tr th:only-of-type {\n",
       "        vertical-align: middle;\n",
       "    }\n",
       "\n",
       "    .dataframe tbody tr th {\n",
       "        vertical-align: top;\n",
       "    }\n",
       "\n",
       "    .dataframe thead th {\n",
       "        text-align: right;\n",
       "    }\n",
       "</style>\n",
       "<table border=\"1\" class=\"dataframe\">\n",
       "  <thead>\n",
       "    <tr style=\"text-align: right;\">\n",
       "      <th></th>\n",
       "      <th>Country</th>\n",
       "      <th>Date</th>\n",
       "      <th>Cases</th>\n",
       "      <th>Deaths</th>\n",
       "      <th>Recovered</th>\n",
       "    </tr>\n",
       "  </thead>\n",
       "  <tbody>\n",
       "    <tr>\n",
       "      <th>0</th>\n",
       "      <td>Afghanistan</td>\n",
       "      <td>6/30/21</td>\n",
       "      <td>118659</td>\n",
       "      <td>4871</td>\n",
       "      <td>71012</td>\n",
       "    </tr>\n",
       "    <tr>\n",
       "      <th>1</th>\n",
       "      <td>Afghanistan</td>\n",
       "      <td>7/1/21</td>\n",
       "      <td>120216</td>\n",
       "      <td>4962</td>\n",
       "      <td>71924</td>\n",
       "    </tr>\n",
       "    <tr>\n",
       "      <th>2</th>\n",
       "      <td>Afghanistan</td>\n",
       "      <td>7/2/21</td>\n",
       "      <td>120216</td>\n",
       "      <td>4962</td>\n",
       "      <td>72700</td>\n",
       "    </tr>\n",
       "    <tr>\n",
       "      <th>3</th>\n",
       "      <td>Afghanistan</td>\n",
       "      <td>7/3/21</td>\n",
       "      <td>120216</td>\n",
       "      <td>4962</td>\n",
       "      <td>73635</td>\n",
       "    </tr>\n",
       "    <tr>\n",
       "      <th>4</th>\n",
       "      <td>Afghanistan</td>\n",
       "      <td>7/4/21</td>\n",
       "      <td>120216</td>\n",
       "      <td>4962</td>\n",
       "      <td>74480</td>\n",
       "    </tr>\n",
       "    <tr>\n",
       "      <th>5</th>\n",
       "      <td>Afghanistan</td>\n",
       "      <td>7/5/21</td>\n",
       "      <td>125937</td>\n",
       "      <td>5283</td>\n",
       "      <td>75314</td>\n",
       "    </tr>\n",
       "    <tr>\n",
       "      <th>6</th>\n",
       "      <td>Afghanistan</td>\n",
       "      <td>7/6/21</td>\n",
       "      <td>127464</td>\n",
       "      <td>5360</td>\n",
       "      <td>76218</td>\n",
       "    </tr>\n",
       "    <tr>\n",
       "      <th>7</th>\n",
       "      <td>Afghanistan</td>\n",
       "      <td>7/7/21</td>\n",
       "      <td>129021</td>\n",
       "      <td>5415</td>\n",
       "      <td>77280</td>\n",
       "    </tr>\n",
       "    <tr>\n",
       "      <th>8</th>\n",
       "      <td>Afghanistan</td>\n",
       "      <td>7/8/21</td>\n",
       "      <td>130113</td>\n",
       "      <td>5477</td>\n",
       "      <td>78521</td>\n",
       "    </tr>\n",
       "    <tr>\n",
       "      <th>9</th>\n",
       "      <td>Afghanistan</td>\n",
       "      <td>7/9/21</td>\n",
       "      <td>131586</td>\n",
       "      <td>5561</td>\n",
       "      <td>79446</td>\n",
       "    </tr>\n",
       "  </tbody>\n",
       "</table>\n",
       "</div>"
      ],
      "text/plain": [
       "       Country     Date   Cases  Deaths  Recovered\n",
       "0  Afghanistan  6/30/21  118659    4871      71012\n",
       "1  Afghanistan   7/1/21  120216    4962      71924\n",
       "2  Afghanistan   7/2/21  120216    4962      72700\n",
       "3  Afghanistan   7/3/21  120216    4962      73635\n",
       "4  Afghanistan   7/4/21  120216    4962      74480\n",
       "5  Afghanistan   7/5/21  125937    5283      75314\n",
       "6  Afghanistan   7/6/21  127464    5360      76218\n",
       "7  Afghanistan   7/7/21  129021    5415      77280\n",
       "8  Afghanistan   7/8/21  130113    5477      78521\n",
       "9  Afghanistan   7/9/21  131586    5561      79446"
      ]
     },
     "execution_count": 18,
     "metadata": {},
     "output_type": "execute_result"
    }
   ],
   "source": [
    "world_covid_df = pd.DataFrame({\n",
    "                              \n",
    "                            \n",
    "                                \"Country\" : country,\n",
    "                                \"Date\" : w_date,\n",
    "                                \"Cases\" : cases,\n",
    "                                \"Deaths\" : deaths,\n",
    "                                \"Recovered\" : recovered\n",
    "                                \n",
    "    \n",
    "})\n",
    "\n",
    "world_covid_df.head(10)"
   ]
  },
  {
   "cell_type": "code",
   "execution_count": 19,
   "id": "34d38116",
   "metadata": {},
   "outputs": [
    {
     "data": {
      "text/html": [
       "<div>\n",
       "<style scoped>\n",
       "    .dataframe tbody tr th:only-of-type {\n",
       "        vertical-align: middle;\n",
       "    }\n",
       "\n",
       "    .dataframe tbody tr th {\n",
       "        vertical-align: top;\n",
       "    }\n",
       "\n",
       "    .dataframe thead th {\n",
       "        text-align: right;\n",
       "    }\n",
       "</style>\n",
       "<table border=\"1\" class=\"dataframe\">\n",
       "  <thead>\n",
       "    <tr style=\"text-align: right;\">\n",
       "      <th></th>\n",
       "      <th>Country</th>\n",
       "      <th>Date</th>\n",
       "      <th>Cases</th>\n",
       "      <th>Deaths</th>\n",
       "      <th>Recovered</th>\n",
       "      <th>Vaccination_count</th>\n",
       "    </tr>\n",
       "  </thead>\n",
       "  <tbody>\n",
       "    <tr>\n",
       "      <th>0</th>\n",
       "      <td>Afghanistan</td>\n",
       "      <td>7/1/21</td>\n",
       "      <td>120216</td>\n",
       "      <td>4962</td>\n",
       "      <td>71924</td>\n",
       "      <td>900969</td>\n",
       "    </tr>\n",
       "    <tr>\n",
       "      <th>1</th>\n",
       "      <td>Afghanistan</td>\n",
       "      <td>7/2/21</td>\n",
       "      <td>120216</td>\n",
       "      <td>4962</td>\n",
       "      <td>72700</td>\n",
       "      <td>913913</td>\n",
       "    </tr>\n",
       "    <tr>\n",
       "      <th>2</th>\n",
       "      <td>Afghanistan</td>\n",
       "      <td>7/3/21</td>\n",
       "      <td>120216</td>\n",
       "      <td>4962</td>\n",
       "      <td>73635</td>\n",
       "      <td>925686</td>\n",
       "    </tr>\n",
       "  </tbody>\n",
       "</table>\n",
       "</div>"
      ],
      "text/plain": [
       "       Country    Date   Cases  Deaths  Recovered  Vaccination_count\n",
       "0  Afghanistan  7/1/21  120216    4962      71924             900969\n",
       "1  Afghanistan  7/2/21  120216    4962      72700             913913\n",
       "2  Afghanistan  7/3/21  120216    4962      73635             925686"
      ]
     },
     "execution_count": 19,
     "metadata": {},
     "output_type": "execute_result"
    }
   ],
   "source": [
    "covid_df = pd.merge(world_covid_df,world_vaccination_df)\n",
    "covid_df.head(3)\n",
    "\n"
   ]
  },
  {
   "cell_type": "code",
   "execution_count": 20,
   "id": "5c49ed7e",
   "metadata": {},
   "outputs": [
    {
     "data": {
      "text/html": [
       "<div>\n",
       "<style scoped>\n",
       "    .dataframe tbody tr th:only-of-type {\n",
       "        vertical-align: middle;\n",
       "    }\n",
       "\n",
       "    .dataframe tbody tr th {\n",
       "        vertical-align: top;\n",
       "    }\n",
       "\n",
       "    .dataframe thead th {\n",
       "        text-align: right;\n",
       "    }\n",
       "</style>\n",
       "<table border=\"1\" class=\"dataframe\">\n",
       "  <thead>\n",
       "    <tr style=\"text-align: right;\">\n",
       "      <th></th>\n",
       "      <th>Country</th>\n",
       "      <th>Date</th>\n",
       "      <th>Cases</th>\n",
       "      <th>Deaths</th>\n",
       "      <th>Recovered</th>\n",
       "      <th>Vaccination_count</th>\n",
       "    </tr>\n",
       "  </thead>\n",
       "  <tbody>\n",
       "    <tr>\n",
       "      <th>0</th>\n",
       "      <td>Afghanistan</td>\n",
       "      <td>7/1/21</td>\n",
       "      <td>120216</td>\n",
       "      <td>4962</td>\n",
       "      <td>71924</td>\n",
       "      <td>900969</td>\n",
       "    </tr>\n",
       "    <tr>\n",
       "      <th>9</th>\n",
       "      <td>Afghanistan</td>\n",
       "      <td>7/10/21</td>\n",
       "      <td>131586</td>\n",
       "      <td>5561</td>\n",
       "      <td>80226</td>\n",
       "      <td>955848</td>\n",
       "    </tr>\n",
       "    <tr>\n",
       "      <th>10</th>\n",
       "      <td>Afghanistan</td>\n",
       "      <td>7/11/21</td>\n",
       "      <td>131586</td>\n",
       "      <td>5561</td>\n",
       "      <td>81077</td>\n",
       "      <td>962093</td>\n",
       "    </tr>\n",
       "    <tr>\n",
       "      <th>11</th>\n",
       "      <td>Afghanistan</td>\n",
       "      <td>7/12/21</td>\n",
       "      <td>134653</td>\n",
       "      <td>5791</td>\n",
       "      <td>82586</td>\n",
       "      <td>971681</td>\n",
       "    </tr>\n",
       "    <tr>\n",
       "      <th>12</th>\n",
       "      <td>Afghanistan</td>\n",
       "      <td>7/13/21</td>\n",
       "      <td>134653</td>\n",
       "      <td>5791</td>\n",
       "      <td>82586</td>\n",
       "      <td>982882</td>\n",
       "    </tr>\n",
       "  </tbody>\n",
       "</table>\n",
       "</div>"
      ],
      "text/plain": [
       "        Country     Date   Cases  Deaths  Recovered  Vaccination_count\n",
       "0   Afghanistan   7/1/21  120216    4962      71924             900969\n",
       "9   Afghanistan  7/10/21  131586    5561      80226             955848\n",
       "10  Afghanistan  7/11/21  131586    5561      81077             962093\n",
       "11  Afghanistan  7/12/21  134653    5791      82586             971681\n",
       "12  Afghanistan  7/13/21  134653    5791      82586             982882"
      ]
     },
     "execution_count": 20,
     "metadata": {},
     "output_type": "execute_result"
    }
   ],
   "source": [
    "covid_df = covid_df.sort_values(['Country','Date','Cases']).drop_duplicates(subset=[\"Country\",\"Date\"],keep=\"last\")\n",
    "\n",
    "\n",
    "covid_df.head(5)"
   ]
  },
  {
   "cell_type": "code",
   "execution_count": 21,
   "id": "f83c9115",
   "metadata": {},
   "outputs": [
    {
     "data": {
      "text/html": [
       "<div>\n",
       "<style scoped>\n",
       "    .dataframe tbody tr th:only-of-type {\n",
       "        vertical-align: middle;\n",
       "    }\n",
       "\n",
       "    .dataframe tbody tr th {\n",
       "        vertical-align: top;\n",
       "    }\n",
       "\n",
       "    .dataframe thead th {\n",
       "        text-align: right;\n",
       "    }\n",
       "</style>\n",
       "<table border=\"1\" class=\"dataframe\">\n",
       "  <thead>\n",
       "    <tr style=\"text-align: right;\">\n",
       "      <th></th>\n",
       "      <th>Country</th>\n",
       "      <th>Date</th>\n",
       "      <th>Cases</th>\n",
       "      <th>Deaths</th>\n",
       "      <th>Recovered</th>\n",
       "      <th>Vaccination_count</th>\n",
       "    </tr>\n",
       "  </thead>\n",
       "  <tbody>\n",
       "    <tr>\n",
       "      <th>0</th>\n",
       "      <td>Afghanistan</td>\n",
       "      <td>2021-07-01</td>\n",
       "      <td>120216</td>\n",
       "      <td>4962</td>\n",
       "      <td>71924</td>\n",
       "      <td>900969</td>\n",
       "    </tr>\n",
       "    <tr>\n",
       "      <th>1</th>\n",
       "      <td>Afghanistan</td>\n",
       "      <td>2021-07-02</td>\n",
       "      <td>120216</td>\n",
       "      <td>4962</td>\n",
       "      <td>72700</td>\n",
       "      <td>913913</td>\n",
       "    </tr>\n",
       "    <tr>\n",
       "      <th>2</th>\n",
       "      <td>Afghanistan</td>\n",
       "      <td>2021-07-03</td>\n",
       "      <td>120216</td>\n",
       "      <td>4962</td>\n",
       "      <td>73635</td>\n",
       "      <td>925686</td>\n",
       "    </tr>\n",
       "    <tr>\n",
       "      <th>3</th>\n",
       "      <td>Afghanistan</td>\n",
       "      <td>2021-07-04</td>\n",
       "      <td>120216</td>\n",
       "      <td>4962</td>\n",
       "      <td>74480</td>\n",
       "      <td>936288</td>\n",
       "    </tr>\n",
       "    <tr>\n",
       "      <th>4</th>\n",
       "      <td>Afghanistan</td>\n",
       "      <td>2021-07-05</td>\n",
       "      <td>125937</td>\n",
       "      <td>5283</td>\n",
       "      <td>75314</td>\n",
       "      <td>915671</td>\n",
       "    </tr>\n",
       "  </tbody>\n",
       "</table>\n",
       "</div>"
      ],
      "text/plain": [
       "       Country       Date   Cases  Deaths  Recovered  Vaccination_count\n",
       "0  Afghanistan 2021-07-01  120216    4962      71924             900969\n",
       "1  Afghanistan 2021-07-02  120216    4962      72700             913913\n",
       "2  Afghanistan 2021-07-03  120216    4962      73635             925686\n",
       "3  Afghanistan 2021-07-04  120216    4962      74480             936288\n",
       "4  Afghanistan 2021-07-05  125937    5283      75314             915671"
      ]
     },
     "execution_count": 21,
     "metadata": {},
     "output_type": "execute_result"
    }
   ],
   "source": [
    "covid_df['Date']=pd.to_datetime(covid_df.Date)\n",
    "covid_df=covid_df.sort_values(['Country','Date'])\n",
    "covid_df.head(5)"
   ]
  },
  {
   "cell_type": "code",
   "execution_count": 22,
   "id": "768bb768",
   "metadata": {},
   "outputs": [
    {
     "data": {
      "text/plain": [
       "5226"
      ]
     },
     "execution_count": 22,
     "metadata": {},
     "output_type": "execute_result"
    }
   ],
   "source": [
    "len(covid_df)"
   ]
  },
  {
   "cell_type": "code",
   "execution_count": 23,
   "id": "ac84aa78",
   "metadata": {},
   "outputs": [],
   "source": [
    "# dc = []\n",
    "# dd = []\n",
    "# dr = []\n",
    "# dv = []\n",
    "\n",
    "# dc.append(0)\n",
    "# dd.append(0)\n",
    "# dr.append(0)\n",
    "# dv.append(0)\n",
    "\n",
    "# for i in range(1,len(covid_df)):\n",
    "#     try:\n",
    "#         if(covid_df['Country'][i]==covid_df['Country'][i-1]):\n",
    "#             dc.append(covid_df['Cases'][i] - covid_df['Cases'][i-1])\n",
    "#             dd.append(covid_df['Deaths'][i] - covid_df['Deaths'][i-1])\n",
    "#             dr.append(covid_df['Recovered'][i] - covid_df['Recovered'][i-1])\n",
    "#             dv.append(covid_df['Vaccination_count'][i] - covid_df['Vaccination_count'][i-1])\n",
    "#         else:\n",
    "#             dc.append(0)\n",
    "#             dd.append(0)\n",
    "#             dr.append(0)\n",
    "#             dv.append(0)\n",
    "#     except:\n",
    "#         pass\n",
    "\n",
    "\n",
    "# covid_df['Daily_New_case'] = dc\n",
    "# covid_df['Daily_Death_case']=dd\n",
    "# covid_df['Daily_Recovered_case']=dr\n",
    "# covid_df['Daily_Vaccination']=dv\n",
    "\n"
   ]
  },
  {
   "cell_type": "markdown",
   "id": "00fe82a0",
   "metadata": {},
   "source": [
    "## Covid Data"
   ]
  },
  {
   "cell_type": "code",
   "execution_count": 24,
   "id": "6898f38b",
   "metadata": {},
   "outputs": [
    {
     "data": {
      "text/html": [
       "<div>\n",
       "<style scoped>\n",
       "    .dataframe tbody tr th:only-of-type {\n",
       "        vertical-align: middle;\n",
       "    }\n",
       "\n",
       "    .dataframe tbody tr th {\n",
       "        vertical-align: top;\n",
       "    }\n",
       "\n",
       "    .dataframe thead th {\n",
       "        text-align: right;\n",
       "    }\n",
       "</style>\n",
       "<table border=\"1\" class=\"dataframe\">\n",
       "  <thead>\n",
       "    <tr style=\"text-align: right;\">\n",
       "      <th></th>\n",
       "      <th>Country</th>\n",
       "      <th>Date</th>\n",
       "      <th>Cases</th>\n",
       "      <th>Deaths</th>\n",
       "      <th>Recovered</th>\n",
       "      <th>Vaccination_count</th>\n",
       "    </tr>\n",
       "  </thead>\n",
       "  <tbody>\n",
       "    <tr>\n",
       "      <th>0</th>\n",
       "      <td>Afghanistan</td>\n",
       "      <td>2021-07-01</td>\n",
       "      <td>120216</td>\n",
       "      <td>4962</td>\n",
       "      <td>71924</td>\n",
       "      <td>900969</td>\n",
       "    </tr>\n",
       "    <tr>\n",
       "      <th>1</th>\n",
       "      <td>Afghanistan</td>\n",
       "      <td>2021-07-02</td>\n",
       "      <td>120216</td>\n",
       "      <td>4962</td>\n",
       "      <td>72700</td>\n",
       "      <td>913913</td>\n",
       "    </tr>\n",
       "    <tr>\n",
       "      <th>2</th>\n",
       "      <td>Afghanistan</td>\n",
       "      <td>2021-07-03</td>\n",
       "      <td>120216</td>\n",
       "      <td>4962</td>\n",
       "      <td>73635</td>\n",
       "      <td>925686</td>\n",
       "    </tr>\n",
       "    <tr>\n",
       "      <th>3</th>\n",
       "      <td>Afghanistan</td>\n",
       "      <td>2021-07-04</td>\n",
       "      <td>120216</td>\n",
       "      <td>4962</td>\n",
       "      <td>74480</td>\n",
       "      <td>936288</td>\n",
       "    </tr>\n",
       "    <tr>\n",
       "      <th>4</th>\n",
       "      <td>Afghanistan</td>\n",
       "      <td>2021-07-05</td>\n",
       "      <td>125937</td>\n",
       "      <td>5283</td>\n",
       "      <td>75314</td>\n",
       "      <td>915671</td>\n",
       "    </tr>\n",
       "  </tbody>\n",
       "</table>\n",
       "</div>"
      ],
      "text/plain": [
       "       Country       Date   Cases  Deaths  Recovered  Vaccination_count\n",
       "0  Afghanistan 2021-07-01  120216    4962      71924             900969\n",
       "1  Afghanistan 2021-07-02  120216    4962      72700             913913\n",
       "2  Afghanistan 2021-07-03  120216    4962      73635             925686\n",
       "3  Afghanistan 2021-07-04  120216    4962      74480             936288\n",
       "4  Afghanistan 2021-07-05  125937    5283      75314             915671"
      ]
     },
     "execution_count": 24,
     "metadata": {},
     "output_type": "execute_result"
    }
   ],
   "source": [
    "covid_df.head(5)"
   ]
  },
  {
   "cell_type": "markdown",
   "id": "67330871",
   "metadata": {},
   "source": [
    "## Group by Covid data"
   ]
  },
  {
   "cell_type": "code",
   "execution_count": 25,
   "id": "f7c9b59f",
   "metadata": {},
   "outputs": [
    {
     "data": {
      "text/html": [
       "<div>\n",
       "<style scoped>\n",
       "    .dataframe tbody tr th:only-of-type {\n",
       "        vertical-align: middle;\n",
       "    }\n",
       "\n",
       "    .dataframe tbody tr th {\n",
       "        vertical-align: top;\n",
       "    }\n",
       "\n",
       "    .dataframe thead th {\n",
       "        text-align: right;\n",
       "    }\n",
       "</style>\n",
       "<table border=\"1\" class=\"dataframe\">\n",
       "  <thead>\n",
       "    <tr style=\"text-align: right;\">\n",
       "      <th></th>\n",
       "      <th>Country</th>\n",
       "      <th>Cases</th>\n",
       "      <th>Deaths</th>\n",
       "      <th>Recovered</th>\n",
       "      <th>Vaccination_count</th>\n",
       "    </tr>\n",
       "  </thead>\n",
       "  <tbody>\n",
       "    <tr>\n",
       "      <th>0</th>\n",
       "      <td>Afghanistan</td>\n",
       "      <td>137853.0</td>\n",
       "      <td>5983.0</td>\n",
       "      <td>82586.0</td>\n",
       "      <td>1038499.0</td>\n",
       "    </tr>\n",
       "    <tr>\n",
       "      <th>1</th>\n",
       "      <td>Albania</td>\n",
       "      <td>132629.0</td>\n",
       "      <td>2456.0</td>\n",
       "      <td>130061.0</td>\n",
       "      <td>1052108.0</td>\n",
       "    </tr>\n",
       "    <tr>\n",
       "      <th>2</th>\n",
       "      <td>Algeria</td>\n",
       "      <td>149906.0</td>\n",
       "      <td>3895.0</td>\n",
       "      <td>103809.0</td>\n",
       "      <td>3076948.0</td>\n",
       "    </tr>\n",
       "    <tr>\n",
       "      <th>3</th>\n",
       "      <td>Andorra</td>\n",
       "      <td>14239.0</td>\n",
       "      <td>127.0</td>\n",
       "      <td>13829.0</td>\n",
       "      <td>71786.0</td>\n",
       "    </tr>\n",
       "    <tr>\n",
       "      <th>4</th>\n",
       "      <td>Angola</td>\n",
       "      <td>40530.0</td>\n",
       "      <td>951.0</td>\n",
       "      <td>34620.0</td>\n",
       "      <td>1576102.0</td>\n",
       "    </tr>\n",
       "    <tr>\n",
       "      <th>5</th>\n",
       "      <td>Antigua and Barbuda</td>\n",
       "      <td>1267.0</td>\n",
       "      <td>42.0</td>\n",
       "      <td>1222.0</td>\n",
       "      <td>65764.0</td>\n",
       "    </tr>\n",
       "    <tr>\n",
       "      <th>6</th>\n",
       "      <td>Argentina</td>\n",
       "      <td>4719952.0</td>\n",
       "      <td>100695.0</td>\n",
       "      <td>4345549.0</td>\n",
       "      <td>26134815.0</td>\n",
       "    </tr>\n",
       "    <tr>\n",
       "      <th>7</th>\n",
       "      <td>Armenia</td>\n",
       "      <td>226949.0</td>\n",
       "      <td>4556.0</td>\n",
       "      <td>218022.0</td>\n",
       "      <td>118928.0</td>\n",
       "    </tr>\n",
       "    <tr>\n",
       "      <th>8</th>\n",
       "      <td>Australia</td>\n",
       "      <td>20748.0</td>\n",
       "      <td>820.0</td>\n",
       "      <td>19893.0</td>\n",
       "      <td>9631807.0</td>\n",
       "    </tr>\n",
       "    <tr>\n",
       "      <th>9</th>\n",
       "      <td>Austria</td>\n",
       "      <td>652660.0</td>\n",
       "      <td>10727.0</td>\n",
       "      <td>639239.0</td>\n",
       "      <td>8902043.0</td>\n",
       "    </tr>\n",
       "  </tbody>\n",
       "</table>\n",
       "</div>"
      ],
      "text/plain": [
       "               Country      Cases    Deaths  Recovered  Vaccination_count\n",
       "0          Afghanistan   137853.0    5983.0    82586.0          1038499.0\n",
       "1              Albania   132629.0    2456.0   130061.0          1052108.0\n",
       "2              Algeria   149906.0    3895.0   103809.0          3076948.0\n",
       "3              Andorra    14239.0     127.0    13829.0            71786.0\n",
       "4               Angola    40530.0     951.0    34620.0          1576102.0\n",
       "5  Antigua and Barbuda     1267.0      42.0     1222.0            65764.0\n",
       "6            Argentina  4719952.0  100695.0  4345549.0         26134815.0\n",
       "7              Armenia   226949.0    4556.0   218022.0           118928.0\n",
       "8            Australia    20748.0     820.0    19893.0          9631807.0\n",
       "9              Austria   652660.0   10727.0   639239.0          8902043.0"
      ]
     },
     "execution_count": 25,
     "metadata": {},
     "output_type": "execute_result"
    }
   ],
   "source": [
    "covid_groupby = covid_df.groupby('Country').median().reset_index()\n",
    "covid_groupby.head(10)"
   ]
  },
  {
   "cell_type": "markdown",
   "id": "88bf2e52",
   "metadata": {},
   "source": [
    "## Today's Covid info"
   ]
  },
  {
   "cell_type": "code",
   "execution_count": 27,
   "id": "e3a7dd15",
   "metadata": {},
   "outputs": [
    {
     "data": {
      "text/plain": [
       "213"
      ]
     },
     "execution_count": 27,
     "metadata": {},
     "output_type": "execute_result"
    }
   ],
   "source": [
    "vaccination1 = requests.get(\"https://disease.sh/v3/covid-19/vaccine/coverage/countries?lastdays=1\").json()\n",
    "country = []\n",
    "vc = []\n",
    "\n",
    "\n",
    "for i in range(len(vaccination1)):\n",
    "    c = vaccination1[i]['country']\n",
    "    vc.append(vaccination1[i]['timeline']['7/30/21'])  \n",
    "    \n",
    "    country.append(c)\n",
    "\n",
    "len(country)\n",
    "len(vc)\n",
    "\n"
   ]
  },
  {
   "cell_type": "code",
   "execution_count": 28,
   "id": "21c86a01",
   "metadata": {},
   "outputs": [
    {
     "data": {
      "text/html": [
       "<div>\n",
       "<style scoped>\n",
       "    .dataframe tbody tr th:only-of-type {\n",
       "        vertical-align: middle;\n",
       "    }\n",
       "\n",
       "    .dataframe tbody tr th {\n",
       "        vertical-align: top;\n",
       "    }\n",
       "\n",
       "    .dataframe thead th {\n",
       "        text-align: right;\n",
       "    }\n",
       "</style>\n",
       "<table border=\"1\" class=\"dataframe\">\n",
       "  <thead>\n",
       "    <tr style=\"text-align: right;\">\n",
       "      <th></th>\n",
       "      <th>Country</th>\n",
       "      <th>Vaccination_count</th>\n",
       "    </tr>\n",
       "  </thead>\n",
       "  <tbody>\n",
       "    <tr>\n",
       "      <th>0</th>\n",
       "      <td>Afghanistan</td>\n",
       "      <td>1381416</td>\n",
       "    </tr>\n",
       "    <tr>\n",
       "      <th>1</th>\n",
       "      <td>Albania</td>\n",
       "      <td>1138771</td>\n",
       "    </tr>\n",
       "    <tr>\n",
       "      <th>2</th>\n",
       "      <td>Algeria</td>\n",
       "      <td>3421279</td>\n",
       "    </tr>\n",
       "    <tr>\n",
       "      <th>3</th>\n",
       "      <td>Andorra</td>\n",
       "      <td>82349</td>\n",
       "    </tr>\n",
       "    <tr>\n",
       "      <th>4</th>\n",
       "      <td>Angola</td>\n",
       "      <td>1592537</td>\n",
       "    </tr>\n",
       "  </tbody>\n",
       "</table>\n",
       "</div>"
      ],
      "text/plain": [
       "       Country  Vaccination_count\n",
       "0  Afghanistan            1381416\n",
       "1      Albania            1138771\n",
       "2      Algeria            3421279\n",
       "3      Andorra              82349\n",
       "4       Angola            1592537"
      ]
     },
     "execution_count": 28,
     "metadata": {},
     "output_type": "execute_result"
    }
   ],
   "source": [
    "vaccine_count = pd.DataFrame({\"Country\" : country,\n",
    "                               \"Vaccination_count\": vc  })\n",
    "\n",
    "vaccine_count.head()"
   ]
  },
  {
   "cell_type": "code",
   "execution_count": 29,
   "id": "5192d567",
   "metadata": {},
   "outputs": [],
   "source": [
    "country = []\n",
    "vaccine1 =[]\n",
    "v_date1 = []\n",
    "for i in range(len(vaccination1)): \n",
    "       \n",
    "    \n",
    "    for j in vaccine_days:\n",
    "        \n",
    "        try:\n",
    "             \n",
    "            vaccine1.append(vaccination1[i][\"timeline\"][j])\n",
    "            country.append(vaccination1[i][\"country\"])\n",
    "            v_date1.append(j)\n",
    "        except:\n",
    "            pass"
   ]
  },
  {
   "cell_type": "code",
   "execution_count": 30,
   "id": "1509006a",
   "metadata": {},
   "outputs": [],
   "source": [
    "url= \"https://disease.sh/v3/covid-19/countries/\"\n",
    "\n",
    "\n",
    "\n",
    "world_active =[]\n",
    "activePerOneMillion = []\n",
    "cases = []\n",
    "casesPerOneMillion = []\n",
    "continent = []\n",
    "w_country = []\n",
    "lat = []\n",
    "long = []\n",
    "critical = []\n",
    "criticalPerOneMillion = []\n",
    "deaths = []\n",
    "deathsPerOneMillion = []\n",
    "population = []\n",
    "recovered=[]\n",
    "recoveredPerOneMillion = []\n",
    "tests = []\n",
    "testsPerOneMillion = []\n",
    "todayCases = []\n",
    "todayDeaths = []\n",
    "todayRecovered = []\n",
    "for c in country:\n",
    "    try:\n",
    "        response = requests.get(url + c).json()\n",
    "        world_active.append(response['active'])\n",
    "        activePerOneMillion.append(response['activePerOneMillion'])\n",
    "        cases.append(response['cases'])\n",
    "        casesPerOneMillion.append(response['casesPerOneMillion'])\n",
    "        continent.append(response['continent'])\n",
    "        w_country.append(response['country'])\n",
    "        lat.append(response['countryInfo']['lat'])\n",
    "        long.append(response['countryInfo']['long'])\n",
    "        critical.append(response['critical'])\n",
    "        criticalPerOneMillion.append(response['criticalPerOneMillion'])\n",
    "        deaths.append(response['deaths'])\n",
    "        deathsPerOneMillion.append(response['deathsPerOneMillion'])\n",
    "        population.append(response['population'])\n",
    "        recovered.append(response['recovered'])\n",
    "        recoveredPerOneMillion.append(response['recoveredPerOneMillion'])\n",
    "        tests.append(response['tests'])\n",
    "        testsPerOneMillion.append(response['testsPerOneMillion'])\n",
    "        todayCases.append(response['todayCases'])\n",
    "        todayDeaths.append(response['todayDeaths'])\n",
    "        todayRecovered.append(response['todayRecovered'])\n",
    "    except:\n",
    "        pass\n",
    "        #print(f'{c} does not have data')\n"
   ]
  },
  {
   "cell_type": "code",
   "execution_count": 31,
   "id": "ca1b7a18",
   "metadata": {},
   "outputs": [
    {
     "data": {
      "text/html": [
       "<div>\n",
       "<style scoped>\n",
       "    .dataframe tbody tr th:only-of-type {\n",
       "        vertical-align: middle;\n",
       "    }\n",
       "\n",
       "    .dataframe tbody tr th {\n",
       "        vertical-align: top;\n",
       "    }\n",
       "\n",
       "    .dataframe thead th {\n",
       "        text-align: right;\n",
       "    }\n",
       "</style>\n",
       "<table border=\"1\" class=\"dataframe\">\n",
       "  <thead>\n",
       "    <tr style=\"text-align: right;\">\n",
       "      <th></th>\n",
       "      <th>Active</th>\n",
       "      <th>Total_cases</th>\n",
       "      <th>Continent</th>\n",
       "      <th>Country</th>\n",
       "      <th>Latitude</th>\n",
       "      <th>Longitude</th>\n",
       "      <th>Critical</th>\n",
       "      <th>Overall_deaths</th>\n",
       "      <th>Population</th>\n",
       "      <th>Recovered</th>\n",
       "      <th>Tests</th>\n",
       "      <th>TodayCases</th>\n",
       "      <th>TodayDeaths</th>\n",
       "      <th>TodayRecovered</th>\n",
       "    </tr>\n",
       "  </thead>\n",
       "  <tbody>\n",
       "    <tr>\n",
       "      <th>0</th>\n",
       "      <td>42932</td>\n",
       "      <td>147154</td>\n",
       "      <td>Asia</td>\n",
       "      <td>Afghanistan</td>\n",
       "      <td>33.0</td>\n",
       "      <td>65.0</td>\n",
       "      <td>1124</td>\n",
       "      <td>6708</td>\n",
       "      <td>39866683</td>\n",
       "      <td>97514</td>\n",
       "      <td>705108</td>\n",
       "      <td>631</td>\n",
       "      <td>31</td>\n",
       "      <td>822</td>\n",
       "    </tr>\n",
       "    <tr>\n",
       "      <th>1</th>\n",
       "      <td>374</td>\n",
       "      <td>133036</td>\n",
       "      <td>Europe</td>\n",
       "      <td>Albania</td>\n",
       "      <td>41.0</td>\n",
       "      <td>20.0</td>\n",
       "      <td>3</td>\n",
       "      <td>2457</td>\n",
       "      <td>2874417</td>\n",
       "      <td>130205</td>\n",
       "      <td>916777</td>\n",
       "      <td>37</td>\n",
       "      <td>0</td>\n",
       "      <td>18</td>\n",
       "    </tr>\n",
       "    <tr>\n",
       "      <th>2</th>\n",
       "      <td>50772</td>\n",
       "      <td>168668</td>\n",
       "      <td>Africa</td>\n",
       "      <td>Algeria</td>\n",
       "      <td>28.0</td>\n",
       "      <td>3.0</td>\n",
       "      <td>37</td>\n",
       "      <td>4189</td>\n",
       "      <td>44699453</td>\n",
       "      <td>113707</td>\n",
       "      <td>230861</td>\n",
       "      <td>0</td>\n",
       "      <td>0</td>\n",
       "      <td>0</td>\n",
       "    </tr>\n",
       "    <tr>\n",
       "      <th>3</th>\n",
       "      <td>340</td>\n",
       "      <td>14678</td>\n",
       "      <td>Europe</td>\n",
       "      <td>Andorra</td>\n",
       "      <td>42.5</td>\n",
       "      <td>1.6</td>\n",
       "      <td>0</td>\n",
       "      <td>128</td>\n",
       "      <td>77398</td>\n",
       "      <td>14210</td>\n",
       "      <td>193595</td>\n",
       "      <td>23</td>\n",
       "      <td>1</td>\n",
       "      <td>30</td>\n",
       "    </tr>\n",
       "    <tr>\n",
       "      <th>4</th>\n",
       "      <td>5458</td>\n",
       "      <td>42486</td>\n",
       "      <td>Africa</td>\n",
       "      <td>Angola</td>\n",
       "      <td>-12.5</td>\n",
       "      <td>18.5</td>\n",
       "      <td>8</td>\n",
       "      <td>1003</td>\n",
       "      <td>33958209</td>\n",
       "      <td>36025</td>\n",
       "      <td>681443</td>\n",
       "      <td>0</td>\n",
       "      <td>0</td>\n",
       "      <td>0</td>\n",
       "    </tr>\n",
       "  </tbody>\n",
       "</table>\n",
       "</div>"
      ],
      "text/plain": [
       "   Active  Total_cases Continent      Country  Latitude  Longitude  Critical  \\\n",
       "0   42932       147154      Asia  Afghanistan      33.0       65.0      1124   \n",
       "1     374       133036    Europe      Albania      41.0       20.0         3   \n",
       "2   50772       168668    Africa      Algeria      28.0        3.0        37   \n",
       "3     340        14678    Europe      Andorra      42.5        1.6         0   \n",
       "4    5458        42486    Africa       Angola     -12.5       18.5         8   \n",
       "\n",
       "   Overall_deaths  Population  Recovered   Tests  TodayCases  TodayDeaths  \\\n",
       "0            6708    39866683      97514  705108         631           31   \n",
       "1            2457     2874417     130205  916777          37            0   \n",
       "2            4189    44699453     113707  230861           0            0   \n",
       "3             128       77398      14210  193595          23            1   \n",
       "4            1003    33958209      36025  681443           0            0   \n",
       "\n",
       "   TodayRecovered  \n",
       "0             822  \n",
       "1              18  \n",
       "2               0  \n",
       "3              30  \n",
       "4               0  "
      ]
     },
     "execution_count": 31,
     "metadata": {},
     "output_type": "execute_result"
    }
   ],
   "source": [
    "daily_covid_df = pd.DataFrame({\n",
    "                                \"Active\" : world_active,\n",
    "                                #\"ActivePerOneMillion\" : activePerOneMillion,\n",
    "                                \"Total_cases\" : cases,\n",
    "                                #\"Total_casesPerOneMillion\" : casesPerOneMillion,\n",
    "                                \"Continent\" : continent,                                \n",
    "                                \"Country\" : w_country,\n",
    "                                \"Latitude\" : lat,\n",
    "                                \"Longitude\" : long,\n",
    "                                \"Critical\" : critical,\n",
    "                                #\"CriticalPerOneMillion\" : criticalPerOneMillion,\n",
    "                                \"Overall_deaths\" : deaths,\n",
    "                                #\"Overall_deathsPerOneMillion\" : deathsPerOneMillion,\n",
    "                                \"Population\" : population,\n",
    "                                \"Recovered\" : recovered,\n",
    "                                #\"RecoveredPerOneMillion\" : recoveredPerOneMillion,\n",
    "                                \"Tests\" : tests,\n",
    "                                #\"TestsPerOneMillion\" : testsPerOneMillion,\n",
    "                                \"TodayCases\" : todayCases,\n",
    "                                \"TodayDeaths\" : todayDeaths,\n",
    "                                \"TodayRecovered\" : todayRecovered,\n",
    "                                \n",
    "                                \n",
    "})\n",
    "\n",
    "daily_covid_df.head(5)"
   ]
  },
  {
   "cell_type": "code",
   "execution_count": 32,
   "id": "5319479d",
   "metadata": {},
   "outputs": [
    {
     "data": {
      "text/html": [
       "<div>\n",
       "<style scoped>\n",
       "    .dataframe tbody tr th:only-of-type {\n",
       "        vertical-align: middle;\n",
       "    }\n",
       "\n",
       "    .dataframe tbody tr th {\n",
       "        vertical-align: top;\n",
       "    }\n",
       "\n",
       "    .dataframe thead th {\n",
       "        text-align: right;\n",
       "    }\n",
       "</style>\n",
       "<table border=\"1\" class=\"dataframe\">\n",
       "  <thead>\n",
       "    <tr style=\"text-align: right;\">\n",
       "      <th></th>\n",
       "      <th>Active</th>\n",
       "      <th>Total_cases</th>\n",
       "      <th>Continent</th>\n",
       "      <th>Country</th>\n",
       "      <th>Latitude</th>\n",
       "      <th>Longitude</th>\n",
       "      <th>Critical</th>\n",
       "      <th>Overall_deaths</th>\n",
       "      <th>Population</th>\n",
       "      <th>Recovered</th>\n",
       "      <th>Tests</th>\n",
       "      <th>TodayCases</th>\n",
       "      <th>TodayDeaths</th>\n",
       "      <th>TodayRecovered</th>\n",
       "      <th>Vaccination_count</th>\n",
       "    </tr>\n",
       "  </thead>\n",
       "  <tbody>\n",
       "    <tr>\n",
       "      <th>0</th>\n",
       "      <td>42932</td>\n",
       "      <td>147154</td>\n",
       "      <td>Asia</td>\n",
       "      <td>Afghanistan</td>\n",
       "      <td>33.0</td>\n",
       "      <td>65.0</td>\n",
       "      <td>1124</td>\n",
       "      <td>6708</td>\n",
       "      <td>39866683</td>\n",
       "      <td>97514</td>\n",
       "      <td>705108</td>\n",
       "      <td>631</td>\n",
       "      <td>31</td>\n",
       "      <td>822</td>\n",
       "      <td>1381416</td>\n",
       "    </tr>\n",
       "    <tr>\n",
       "      <th>1</th>\n",
       "      <td>374</td>\n",
       "      <td>133036</td>\n",
       "      <td>Europe</td>\n",
       "      <td>Albania</td>\n",
       "      <td>41.0</td>\n",
       "      <td>20.0</td>\n",
       "      <td>3</td>\n",
       "      <td>2457</td>\n",
       "      <td>2874417</td>\n",
       "      <td>130205</td>\n",
       "      <td>916777</td>\n",
       "      <td>37</td>\n",
       "      <td>0</td>\n",
       "      <td>18</td>\n",
       "      <td>1138771</td>\n",
       "    </tr>\n",
       "  </tbody>\n",
       "</table>\n",
       "</div>"
      ],
      "text/plain": [
       "   Active  Total_cases Continent      Country  Latitude  Longitude  Critical  \\\n",
       "0   42932       147154      Asia  Afghanistan      33.0       65.0      1124   \n",
       "1     374       133036    Europe      Albania      41.0       20.0         3   \n",
       "\n",
       "   Overall_deaths  Population  Recovered   Tests  TodayCases  TodayDeaths  \\\n",
       "0            6708    39866683      97514  705108         631           31   \n",
       "1            2457     2874417     130205  916777          37            0   \n",
       "\n",
       "   TodayRecovered  Vaccination_count  \n",
       "0             822            1381416  \n",
       "1              18            1138771  "
      ]
     },
     "execution_count": 32,
     "metadata": {},
     "output_type": "execute_result"
    }
   ],
   "source": [
    "today_df = pd.merge(daily_covid_df,vaccine_count)\n",
    "\n",
    "today_df.head(2)"
   ]
  },
  {
   "cell_type": "code",
   "execution_count": 33,
   "id": "b4354ec3",
   "metadata": {},
   "outputs": [
    {
     "data": {
      "text/html": [
       "<div>\n",
       "<style scoped>\n",
       "    .dataframe tbody tr th:only-of-type {\n",
       "        vertical-align: middle;\n",
       "    }\n",
       "\n",
       "    .dataframe tbody tr th {\n",
       "        vertical-align: top;\n",
       "    }\n",
       "\n",
       "    .dataframe thead th {\n",
       "        text-align: right;\n",
       "    }\n",
       "</style>\n",
       "<table border=\"1\" class=\"dataframe\">\n",
       "  <thead>\n",
       "    <tr style=\"text-align: right;\">\n",
       "      <th></th>\n",
       "      <th>Country</th>\n",
       "      <th>Latitude</th>\n",
       "      <th>Longitude</th>\n",
       "      <th>Population</th>\n",
       "      <th>Continent</th>\n",
       "    </tr>\n",
       "  </thead>\n",
       "  <tbody>\n",
       "    <tr>\n",
       "      <th>0</th>\n",
       "      <td>Afghanistan</td>\n",
       "      <td>33.0</td>\n",
       "      <td>65.0</td>\n",
       "      <td>39866683</td>\n",
       "      <td>Asia</td>\n",
       "    </tr>\n",
       "    <tr>\n",
       "      <th>1</th>\n",
       "      <td>Albania</td>\n",
       "      <td>41.0</td>\n",
       "      <td>20.0</td>\n",
       "      <td>2874417</td>\n",
       "      <td>Europe</td>\n",
       "    </tr>\n",
       "    <tr>\n",
       "      <th>2</th>\n",
       "      <td>Algeria</td>\n",
       "      <td>28.0</td>\n",
       "      <td>3.0</td>\n",
       "      <td>44699453</td>\n",
       "      <td>Africa</td>\n",
       "    </tr>\n",
       "    <tr>\n",
       "      <th>3</th>\n",
       "      <td>Andorra</td>\n",
       "      <td>42.5</td>\n",
       "      <td>1.6</td>\n",
       "      <td>77398</td>\n",
       "      <td>Europe</td>\n",
       "    </tr>\n",
       "    <tr>\n",
       "      <th>4</th>\n",
       "      <td>Angola</td>\n",
       "      <td>-12.5</td>\n",
       "      <td>18.5</td>\n",
       "      <td>33958209</td>\n",
       "      <td>Africa</td>\n",
       "    </tr>\n",
       "  </tbody>\n",
       "</table>\n",
       "</div>"
      ],
      "text/plain": [
       "       Country  Latitude  Longitude  Population Continent\n",
       "0  Afghanistan      33.0       65.0    39866683      Asia\n",
       "1      Albania      41.0       20.0     2874417    Europe\n",
       "2      Algeria      28.0        3.0    44699453    Africa\n",
       "3      Andorra      42.5        1.6       77398    Europe\n",
       "4       Angola     -12.5       18.5    33958209    Africa"
      ]
     },
     "execution_count": 33,
     "metadata": {},
     "output_type": "execute_result"
    }
   ],
   "source": [
    "subset_today = today_df[['Country','Latitude','Longitude','Population','Continent']]\n",
    "subset_today.head()"
   ]
  },
  {
   "cell_type": "markdown",
   "id": "f2264951",
   "metadata": {},
   "source": [
    "## Main Covid Dataframe"
   ]
  },
  {
   "cell_type": "code",
   "execution_count": 34,
   "id": "09f3879f",
   "metadata": {},
   "outputs": [
    {
     "data": {
      "text/html": [
       "<div>\n",
       "<style scoped>\n",
       "    .dataframe tbody tr th:only-of-type {\n",
       "        vertical-align: middle;\n",
       "    }\n",
       "\n",
       "    .dataframe tbody tr th {\n",
       "        vertical-align: top;\n",
       "    }\n",
       "\n",
       "    .dataframe thead th {\n",
       "        text-align: right;\n",
       "    }\n",
       "</style>\n",
       "<table border=\"1\" class=\"dataframe\">\n",
       "  <thead>\n",
       "    <tr style=\"text-align: right;\">\n",
       "      <th></th>\n",
       "      <th>Country</th>\n",
       "      <th>Cases</th>\n",
       "      <th>Deaths</th>\n",
       "      <th>Recovered</th>\n",
       "      <th>Vaccination_count</th>\n",
       "      <th>Latitude</th>\n",
       "      <th>Longitude</th>\n",
       "      <th>Population</th>\n",
       "      <th>Continent</th>\n",
       "      <th>Unvaccination_count</th>\n",
       "    </tr>\n",
       "  </thead>\n",
       "  <tbody>\n",
       "    <tr>\n",
       "      <th>0</th>\n",
       "      <td>Afghanistan</td>\n",
       "      <td>137853.0</td>\n",
       "      <td>5983.0</td>\n",
       "      <td>82586.0</td>\n",
       "      <td>1038499.0</td>\n",
       "      <td>33.0</td>\n",
       "      <td>65.0</td>\n",
       "      <td>39866683</td>\n",
       "      <td>Asia</td>\n",
       "      <td>38828184.0</td>\n",
       "    </tr>\n",
       "    <tr>\n",
       "      <th>1</th>\n",
       "      <td>Albania</td>\n",
       "      <td>132629.0</td>\n",
       "      <td>2456.0</td>\n",
       "      <td>130061.0</td>\n",
       "      <td>1052108.0</td>\n",
       "      <td>41.0</td>\n",
       "      <td>20.0</td>\n",
       "      <td>2874417</td>\n",
       "      <td>Europe</td>\n",
       "      <td>1822309.0</td>\n",
       "    </tr>\n",
       "    <tr>\n",
       "      <th>2</th>\n",
       "      <td>Algeria</td>\n",
       "      <td>149906.0</td>\n",
       "      <td>3895.0</td>\n",
       "      <td>103809.0</td>\n",
       "      <td>3076948.0</td>\n",
       "      <td>28.0</td>\n",
       "      <td>3.0</td>\n",
       "      <td>44699453</td>\n",
       "      <td>Africa</td>\n",
       "      <td>41622505.0</td>\n",
       "    </tr>\n",
       "    <tr>\n",
       "      <th>3</th>\n",
       "      <td>Andorra</td>\n",
       "      <td>14239.0</td>\n",
       "      <td>127.0</td>\n",
       "      <td>13829.0</td>\n",
       "      <td>71786.0</td>\n",
       "      <td>42.5</td>\n",
       "      <td>1.6</td>\n",
       "      <td>77398</td>\n",
       "      <td>Europe</td>\n",
       "      <td>5612.0</td>\n",
       "    </tr>\n",
       "    <tr>\n",
       "      <th>4</th>\n",
       "      <td>Angola</td>\n",
       "      <td>40530.0</td>\n",
       "      <td>951.0</td>\n",
       "      <td>34620.0</td>\n",
       "      <td>1576102.0</td>\n",
       "      <td>-12.5</td>\n",
       "      <td>18.5</td>\n",
       "      <td>33958209</td>\n",
       "      <td>Africa</td>\n",
       "      <td>32382107.0</td>\n",
       "    </tr>\n",
       "  </tbody>\n",
       "</table>\n",
       "</div>"
      ],
      "text/plain": [
       "       Country     Cases  Deaths  Recovered  Vaccination_count  Latitude  \\\n",
       "0  Afghanistan  137853.0  5983.0    82586.0          1038499.0      33.0   \n",
       "1      Albania  132629.0  2456.0   130061.0          1052108.0      41.0   \n",
       "2      Algeria  149906.0  3895.0   103809.0          3076948.0      28.0   \n",
       "3      Andorra   14239.0   127.0    13829.0            71786.0      42.5   \n",
       "4       Angola   40530.0   951.0    34620.0          1576102.0     -12.5   \n",
       "\n",
       "   Longitude  Population Continent  Unvaccination_count  \n",
       "0       65.0    39866683      Asia           38828184.0  \n",
       "1       20.0     2874417    Europe            1822309.0  \n",
       "2        3.0    44699453    Africa           41622505.0  \n",
       "3        1.6       77398    Europe               5612.0  \n",
       "4       18.5    33958209    Africa           32382107.0  "
      ]
     },
     "execution_count": 34,
     "metadata": {},
     "output_type": "execute_result"
    }
   ],
   "source": [
    "main_covid_df = pd.merge(covid_groupby,subset_today)\n",
    "main_covid_df['Unvaccination_count'] = main_covid_df['Population']- main_covid_df['Vaccination_count']\n",
    "main_covid_df.head()"
   ]
  },
  {
   "cell_type": "code",
   "execution_count": 35,
   "id": "b151b016",
   "metadata": {},
   "outputs": [
    {
     "name": "stdout",
     "output_type": "stream",
     "text": [
      "<class 'pandas.core.frame.DataFrame'>\n",
      "Int64Index: 181 entries, 0 to 180\n",
      "Data columns (total 10 columns):\n",
      " #   Column               Non-Null Count  Dtype  \n",
      "---  ------               --------------  -----  \n",
      " 0   Country              181 non-null    object \n",
      " 1   Cases                181 non-null    float64\n",
      " 2   Deaths               181 non-null    float64\n",
      " 3   Recovered            181 non-null    float64\n",
      " 4   Vaccination_count    181 non-null    float64\n",
      " 5   Latitude             181 non-null    float64\n",
      " 6   Longitude            181 non-null    float64\n",
      " 7   Population           181 non-null    int64  \n",
      " 8   Continent            181 non-null    object \n",
      " 9   Unvaccination_count  181 non-null    float64\n",
      "dtypes: float64(7), int64(1), object(2)\n",
      "memory usage: 15.6+ KB\n"
     ]
    }
   ],
   "source": [
    "main_covid_df.info()"
   ]
  },
  {
   "cell_type": "markdown",
   "id": "c70135d1",
   "metadata": {},
   "source": [
    "## Visualizations"
   ]
  },
  {
   "cell_type": "markdown",
   "id": "4baed92f",
   "metadata": {},
   "source": [
    "## Top 10 Vaccinated countries"
   ]
  },
  {
   "cell_type": "code",
   "execution_count": 36,
   "id": "ae4eaa55",
   "metadata": {},
   "outputs": [
    {
     "data": {
      "text/html": [
       "<div>\n",
       "<style scoped>\n",
       "    .dataframe tbody tr th:only-of-type {\n",
       "        vertical-align: middle;\n",
       "    }\n",
       "\n",
       "    .dataframe tbody tr th {\n",
       "        vertical-align: top;\n",
       "    }\n",
       "\n",
       "    .dataframe thead th {\n",
       "        text-align: right;\n",
       "    }\n",
       "</style>\n",
       "<table border=\"1\" class=\"dataframe\">\n",
       "  <thead>\n",
       "    <tr style=\"text-align: right;\">\n",
       "      <th></th>\n",
       "      <th>Rank</th>\n",
       "      <th>Country</th>\n",
       "      <th>Latitude</th>\n",
       "      <th>Longitude</th>\n",
       "    </tr>\n",
       "  </thead>\n",
       "  <tbody>\n",
       "    <tr>\n",
       "      <th>34</th>\n",
       "      <td>1</td>\n",
       "      <td>China</td>\n",
       "      <td>35.0000</td>\n",
       "      <td>105.0000</td>\n",
       "    </tr>\n",
       "    <tr>\n",
       "      <th>73</th>\n",
       "      <td>2</td>\n",
       "      <td>India</td>\n",
       "      <td>20.0000</td>\n",
       "      <td>77.0000</td>\n",
       "    </tr>\n",
       "    <tr>\n",
       "      <th>170</th>\n",
       "      <td>3</td>\n",
       "      <td>USA</td>\n",
       "      <td>38.0000</td>\n",
       "      <td>-97.0000</td>\n",
       "    </tr>\n",
       "    <tr>\n",
       "      <th>23</th>\n",
       "      <td>4</td>\n",
       "      <td>Brazil</td>\n",
       "      <td>-10.0000</td>\n",
       "      <td>-55.0000</td>\n",
       "    </tr>\n",
       "    <tr>\n",
       "      <th>61</th>\n",
       "      <td>5</td>\n",
       "      <td>Germany</td>\n",
       "      <td>51.0000</td>\n",
       "      <td>9.0000</td>\n",
       "    </tr>\n",
       "    <tr>\n",
       "      <th>169</th>\n",
       "      <td>6</td>\n",
       "      <td>UK</td>\n",
       "      <td>54.0000</td>\n",
       "      <td>-2.0000</td>\n",
       "    </tr>\n",
       "    <tr>\n",
       "      <th>81</th>\n",
       "      <td>7</td>\n",
       "      <td>Japan</td>\n",
       "      <td>36.0000</td>\n",
       "      <td>138.0000</td>\n",
       "    </tr>\n",
       "    <tr>\n",
       "      <th>57</th>\n",
       "      <td>8</td>\n",
       "      <td>France</td>\n",
       "      <td>46.0000</td>\n",
       "      <td>2.0000</td>\n",
       "    </tr>\n",
       "    <tr>\n",
       "      <th>167</th>\n",
       "      <td>9</td>\n",
       "      <td>Turkey</td>\n",
       "      <td>39.0000</td>\n",
       "      <td>35.0000</td>\n",
       "    </tr>\n",
       "    <tr>\n",
       "      <th>79</th>\n",
       "      <td>10</td>\n",
       "      <td>Italy</td>\n",
       "      <td>42.8333</td>\n",
       "      <td>12.8333</td>\n",
       "    </tr>\n",
       "  </tbody>\n",
       "</table>\n",
       "</div>"
      ],
      "text/plain": [
       "     Rank  Country  Latitude  Longitude\n",
       "34      1    China   35.0000   105.0000\n",
       "73      2    India   20.0000    77.0000\n",
       "170     3      USA   38.0000   -97.0000\n",
       "23      4   Brazil  -10.0000   -55.0000\n",
       "61      5  Germany   51.0000     9.0000\n",
       "169     6       UK   54.0000    -2.0000\n",
       "81      7    Japan   36.0000   138.0000\n",
       "57      8   France   46.0000     2.0000\n",
       "167     9   Turkey   39.0000    35.0000\n",
       "79     10    Italy   42.8333    12.8333"
      ]
     },
     "execution_count": 36,
     "metadata": {},
     "output_type": "execute_result"
    }
   ],
   "source": [
    "most_vaccinated_df = main_covid_df.sort_values(['Vaccination_count'], ascending = False).head(10)\n",
    "most_vaccinated_df['Rank'] = range(1,11,1)\n",
    "most_vaccinated_df[['Rank','Country','Latitude','Longitude']]"
   ]
  },
  {
   "cell_type": "code",
   "execution_count": 37,
   "id": "151218a5",
   "metadata": {},
   "outputs": [],
   "source": [
    "import gmaps\n",
    "from config import gkey\n",
    "gmaps.configure(api_key=gkey)\n",
    "loc = most_vaccinated_df[[\"Latitude\", \"Longitude\"]]\n",
    "Vaccination_count = most_vaccinated_df['Vaccination_count']"
   ]
  },
  {
   "cell_type": "code",
   "execution_count": 38,
   "id": "beeaae2b",
   "metadata": {},
   "outputs": [
    {
     "data": {
      "application/vnd.jupyter.widget-view+json": {
       "model_id": "937c04c17fcf4b20a5dc69b907be5194",
       "version_major": 2,
       "version_minor": 0
      },
      "text/plain": [
       "Figure(layout=FigureLayout(height='420px'))"
      ]
     },
     "metadata": {},
     "output_type": "display_data"
    }
   ],
   "source": [
    "fig = gmaps.figure(center=(45.0, -5.0), zoom_level=2)\n",
    "heat = gmaps.heatmap_layer(loc, weights = Vaccination_count, dissipating=False, point_radius=8)\n",
    "fig.add_layer(heat)\n",
    "\n",
    "\n",
    "info_box_template = \"\"\"\n",
    "<dl>\n",
    "\n",
    "<dt>Rank</dt><dd>{Rank}</dd>\n",
    "<dt>Country</dt><dd>{Country}</dd>\n",
    "</dl>\n",
    "\"\"\"\n",
    "# Store the DataFrame Row\n",
    "# NOTE: be sure to update with your DataFrame name\n",
    "Vaccine_info = [info_box_template.format(**row) for index, row in most_vaccinated_df.iterrows()]\n",
    "locations = most_vaccinated_df[[\"Latitude\", \"Longitude\"]]\n",
    "\n",
    "marker = gmaps.marker_layer(locations, info_box_content = Vaccine_info)\n",
    "fig.add_layer(marker)\n",
    "\n",
    "fig\n"
   ]
  },
  {
   "cell_type": "markdown",
   "id": "01237bf6",
   "metadata": {},
   "source": [
    "## Top 10 Un-Vaccinated countries with repect to population"
   ]
  },
  {
   "cell_type": "code",
   "execution_count": 90,
   "id": "9183e245",
   "metadata": {},
   "outputs": [
    {
     "data": {
      "image/png": "[encoded data removed]",
      "text/plain": [
       "<Figure size 1080x576 with 1 Axes>"
      ]
     },
     "metadata": {
      "needs_background": "light"
     },
     "output_type": "display_data"
    },
    {
     "data": {
      "text/plain": [
       "<Figure size 432x288 with 0 Axes>"
      ]
     },
     "metadata": {},
     "output_type": "display_data"
    }
   ],
   "source": [
    "Vaccinated_and_unvaccinated = main_covid_df[['Country',\"Vaccination_count\",\"Unvaccination_count\"]].sort_values(['Unvaccination_count'], ascending = False).head(10)\n",
    "multi_plot = Vaccinated_and_unvaccinated.plot(kind=\"bar\", figsize=(15,8))\n",
    "\n",
    "# PandasPlot.set_xticklabels() can be used to set the tick labels as well\n",
    "multi_plot.set_xticklabels(Vaccinated_and_unvaccinated[\"Country\"], rotation=45)\n",
    "plt.title(\"Un-Vaccinated countries based on population\")\n",
    "plt.xlabel(\"Countries\")\n",
    "plt.ylabel(\"Vaccinated and unvacinated count\")\n",
    "plt.show()\n",
    "plt.tight_layout()\n",
    "\n"
   ]
  },
  {
   "cell_type": "markdown",
   "id": "fad004ed",
   "metadata": {},
   "source": [
    "## Top 10 countries with highest covid cases"
   ]
  },
  {
   "cell_type": "code",
   "execution_count": 40,
   "id": "8dfb13cc",
   "metadata": {},
   "outputs": [
    {
     "data": {
      "text/html": [
       "<div>\n",
       "<style scoped>\n",
       "    .dataframe tbody tr th:only-of-type {\n",
       "        vertical-align: middle;\n",
       "    }\n",
       "\n",
       "    .dataframe tbody tr th {\n",
       "        vertical-align: top;\n",
       "    }\n",
       "\n",
       "    .dataframe thead th {\n",
       "        text-align: right;\n",
       "    }\n",
       "</style>\n",
       "<table border=\"1\" class=\"dataframe\">\n",
       "  <thead>\n",
       "    <tr style=\"text-align: right;\">\n",
       "      <th></th>\n",
       "      <th>Rank</th>\n",
       "      <th>Country</th>\n",
       "      <th>Latitude</th>\n",
       "      <th>Longitude</th>\n",
       "    </tr>\n",
       "  </thead>\n",
       "  <tbody>\n",
       "    <tr>\n",
       "      <th>170</th>\n",
       "      <td>1</td>\n",
       "      <td>USA</td>\n",
       "      <td>38.0000</td>\n",
       "      <td>-97.0000</td>\n",
       "    </tr>\n",
       "    <tr>\n",
       "      <th>73</th>\n",
       "      <td>2</td>\n",
       "      <td>India</td>\n",
       "      <td>20.0000</td>\n",
       "      <td>77.0000</td>\n",
       "    </tr>\n",
       "    <tr>\n",
       "      <th>23</th>\n",
       "      <td>3</td>\n",
       "      <td>Brazil</td>\n",
       "      <td>-10.0000</td>\n",
       "      <td>-55.0000</td>\n",
       "    </tr>\n",
       "    <tr>\n",
       "      <th>131</th>\n",
       "      <td>4</td>\n",
       "      <td>Russia</td>\n",
       "      <td>60.0000</td>\n",
       "      <td>100.0000</td>\n",
       "    </tr>\n",
       "    <tr>\n",
       "      <th>57</th>\n",
       "      <td>5</td>\n",
       "      <td>France</td>\n",
       "      <td>46.0000</td>\n",
       "      <td>2.0000</td>\n",
       "    </tr>\n",
       "    <tr>\n",
       "      <th>167</th>\n",
       "      <td>6</td>\n",
       "      <td>Turkey</td>\n",
       "      <td>39.0000</td>\n",
       "      <td>35.0000</td>\n",
       "    </tr>\n",
       "    <tr>\n",
       "      <th>169</th>\n",
       "      <td>7</td>\n",
       "      <td>UK</td>\n",
       "      <td>54.0000</td>\n",
       "      <td>-2.0000</td>\n",
       "    </tr>\n",
       "    <tr>\n",
       "      <th>6</th>\n",
       "      <td>8</td>\n",
       "      <td>Argentina</td>\n",
       "      <td>-34.0000</td>\n",
       "      <td>-64.0000</td>\n",
       "    </tr>\n",
       "    <tr>\n",
       "      <th>35</th>\n",
       "      <td>9</td>\n",
       "      <td>Colombia</td>\n",
       "      <td>4.0000</td>\n",
       "      <td>-72.0000</td>\n",
       "    </tr>\n",
       "    <tr>\n",
       "      <th>79</th>\n",
       "      <td>10</td>\n",
       "      <td>Italy</td>\n",
       "      <td>42.8333</td>\n",
       "      <td>12.8333</td>\n",
       "    </tr>\n",
       "  </tbody>\n",
       "</table>\n",
       "</div>"
      ],
      "text/plain": [
       "     Rank    Country  Latitude  Longitude\n",
       "170     1        USA   38.0000   -97.0000\n",
       "73      2      India   20.0000    77.0000\n",
       "23      3     Brazil  -10.0000   -55.0000\n",
       "131     4     Russia   60.0000   100.0000\n",
       "57      5     France   46.0000     2.0000\n",
       "167     6     Turkey   39.0000    35.0000\n",
       "169     7         UK   54.0000    -2.0000\n",
       "6       8  Argentina  -34.0000   -64.0000\n",
       "35      9   Colombia    4.0000   -72.0000\n",
       "79     10      Italy   42.8333    12.8333"
      ]
     },
     "execution_count": 40,
     "metadata": {},
     "output_type": "execute_result"
    }
   ],
   "source": [
    "most_dailycases_df = main_covid_df.sort_values(['Cases'], ascending = False).head(10)\n",
    "most_dailycases_df['Rank'] = range(1,11,1)\n",
    "most_dailycases_df[['Rank','Country','Latitude','Longitude']]"
   ]
  },
  {
   "cell_type": "code",
   "execution_count": 41,
   "id": "69ed2a95",
   "metadata": {},
   "outputs": [],
   "source": [
    "\n",
    "loc = most_dailycases_df[[\"Latitude\", \"Longitude\"]]\n",
    "Daily_New_case = most_dailycases_df['Cases']"
   ]
  },
  {
   "cell_type": "code",
   "execution_count": 42,
   "id": "a145a85e",
   "metadata": {},
   "outputs": [
    {
     "data": {
      "application/vnd.jupyter.widget-view+json": {
       "model_id": "9f61d788495f46aabdc7e77c731e36d5",
       "version_major": 2,
       "version_minor": 0
      },
      "text/plain": [
       "Figure(layout=FigureLayout(height='420px'))"
      ]
     },
     "metadata": {},
     "output_type": "display_data"
    }
   ],
   "source": [
    "fig = gmaps.figure(center=(45.0, -5.0), zoom_level=2)\n",
    "heat = gmaps.heatmap_layer(loc, weights = Daily_New_case, dissipating=False, point_radius=8)\n",
    "fig.add_layer(heat)\n",
    "\n",
    "info_box_template = \"\"\"\n",
    "<dl>\n",
    "\n",
    "<dt>Rank</dt><dd>{Rank}</dd>\n",
    "<dt>Country</dt><dd>{Country}</dd>\n",
    "</dl>\n",
    "\"\"\"\n",
    "# Store the DataFrame Row\n",
    "# NOTE: be sure to update with your DataFrame name\n",
    "cases_info = [info_box_template.format(**row) for index, row in most_dailycases_df.iterrows()]\n",
    "locations = most_dailycases_df[[\"Latitude\", \"Longitude\"]]\n",
    "\n",
    "marker = gmaps.marker_layer(locations, info_box_content = cases_info)\n",
    "fig.add_layer(marker)\n",
    "\n",
    "fig\n",
    "\n"
   ]
  },
  {
   "cell_type": "markdown",
   "id": "fa9ce9fe",
   "metadata": {},
   "source": [
    "## Total_Cases and Recovered cases plot by region"
   ]
  },
  {
   "cell_type": "code",
   "execution_count": 43,
   "id": "0a672cdf",
   "metadata": {},
   "outputs": [
    {
     "data": {
      "text/html": [
       "<div>\n",
       "<style scoped>\n",
       "    .dataframe tbody tr th:only-of-type {\n",
       "        vertical-align: middle;\n",
       "    }\n",
       "\n",
       "    .dataframe tbody tr th {\n",
       "        vertical-align: top;\n",
       "    }\n",
       "\n",
       "    .dataframe thead th {\n",
       "        text-align: right;\n",
       "    }\n",
       "</style>\n",
       "<table border=\"1\" class=\"dataframe\">\n",
       "  <thead>\n",
       "    <tr style=\"text-align: right;\">\n",
       "      <th></th>\n",
       "      <th>Continent</th>\n",
       "      <th>Cases</th>\n",
       "      <th>Deaths</th>\n",
       "      <th>Recovered</th>\n",
       "      <th>Vaccination_count</th>\n",
       "      <th>Latitude</th>\n",
       "      <th>Longitude</th>\n",
       "      <th>Population</th>\n",
       "      <th>Unvaccination_count</th>\n",
       "    </tr>\n",
       "  </thead>\n",
       "  <tbody>\n",
       "    <tr>\n",
       "      <th>0</th>\n",
       "      <td>Africa</td>\n",
       "      <td>6099283.0</td>\n",
       "      <td>155331.0</td>\n",
       "      <td>5258746.0</td>\n",
       "      <td>6.054171e+07</td>\n",
       "      <td>152.0603</td>\n",
       "      <td>836.8736</td>\n",
       "      <td>1295709695</td>\n",
       "      <td>1.235168e+09</td>\n",
       "    </tr>\n",
       "    <tr>\n",
       "      <th>1</th>\n",
       "      <td>Asia</td>\n",
       "      <td>57932797.0</td>\n",
       "      <td>825341.5</td>\n",
       "      <td>54558598.5</td>\n",
       "      <td>2.239446e+09</td>\n",
       "      <td>1152.7375</td>\n",
       "      <td>3418.3248</td>\n",
       "      <td>4577654806</td>\n",
       "      <td>2.338208e+09</td>\n",
       "    </tr>\n",
       "  </tbody>\n",
       "</table>\n",
       "</div>"
      ],
      "text/plain": [
       "  Continent       Cases    Deaths   Recovered  Vaccination_count   Latitude  \\\n",
       "0    Africa   6099283.0  155331.0   5258746.0       6.054171e+07   152.0603   \n",
       "1      Asia  57932797.0  825341.5  54558598.5       2.239446e+09  1152.7375   \n",
       "\n",
       "   Longitude  Population  Unvaccination_count  \n",
       "0   836.8736  1295709695         1.235168e+09  \n",
       "1  3418.3248  4577654806         2.338208e+09  "
      ]
     },
     "execution_count": 43,
     "metadata": {},
     "output_type": "execute_result"
    }
   ],
   "source": [
    "region = main_covid_df.groupby(\"Continent\").sum().reset_index()\n",
    "region.head(2)"
   ]
  },
  {
   "cell_type": "code",
   "execution_count": 44,
   "id": "b022e9af",
   "metadata": {},
   "outputs": [
    {
     "data": {
      "text/html": [
       "<div>\n",
       "<style scoped>\n",
       "    .dataframe tbody tr th:only-of-type {\n",
       "        vertical-align: middle;\n",
       "    }\n",
       "\n",
       "    .dataframe tbody tr th {\n",
       "        vertical-align: top;\n",
       "    }\n",
       "\n",
       "    .dataframe thead th {\n",
       "        text-align: right;\n",
       "    }\n",
       "</style>\n",
       "<table border=\"1\" class=\"dataframe\">\n",
       "  <thead>\n",
       "    <tr style=\"text-align: right;\">\n",
       "      <th></th>\n",
       "      <th>Continent</th>\n",
       "      <th>Cases</th>\n",
       "      <th>Deaths</th>\n",
       "      <th>Recovered</th>\n",
       "      <th>Vaccination_count</th>\n",
       "      <th>Population</th>\n",
       "    </tr>\n",
       "  </thead>\n",
       "  <tbody>\n",
       "    <tr>\n",
       "      <th>0</th>\n",
       "      <td>Africa</td>\n",
       "      <td>6099283.0</td>\n",
       "      <td>155331.0</td>\n",
       "      <td>5258746.0</td>\n",
       "      <td>6.054171e+07</td>\n",
       "      <td>1295709695</td>\n",
       "    </tr>\n",
       "    <tr>\n",
       "      <th>1</th>\n",
       "      <td>Asia</td>\n",
       "      <td>57932797.0</td>\n",
       "      <td>825341.5</td>\n",
       "      <td>54558598.5</td>\n",
       "      <td>2.239446e+09</td>\n",
       "      <td>4577654806</td>\n",
       "    </tr>\n",
       "    <tr>\n",
       "      <th>2</th>\n",
       "      <td>Australia-Oceania</td>\n",
       "      <td>54804.0</td>\n",
       "      <td>1100.0</td>\n",
       "      <td>42371.0</td>\n",
       "      <td>1.169724e+07</td>\n",
       "      <td>42071013</td>\n",
       "    </tr>\n",
       "    <tr>\n",
       "      <th>3</th>\n",
       "      <td>Europe</td>\n",
       "      <td>49335249.0</td>\n",
       "      <td>1115399.0</td>\n",
       "      <td>27221019.0</td>\n",
       "      <td>5.837162e+08</td>\n",
       "      <td>747771216</td>\n",
       "    </tr>\n",
       "    <tr>\n",
       "      <th>4</th>\n",
       "      <td>North America</td>\n",
       "      <td>39411641.0</td>\n",
       "      <td>893647.0</td>\n",
       "      <td>3861396.0</td>\n",
       "      <td>4.629701e+08</td>\n",
       "      <td>592617006</td>\n",
       "    </tr>\n",
       "    <tr>\n",
       "      <th>5</th>\n",
       "      <td>South America</td>\n",
       "      <td>34335597.0</td>\n",
       "      <td>1047201.0</td>\n",
       "      <td>31322224.0</td>\n",
       "      <td>2.261491e+08</td>\n",
       "      <td>434264511</td>\n",
       "    </tr>\n",
       "  </tbody>\n",
       "</table>\n",
       "</div>"
      ],
      "text/plain": [
       "           Continent       Cases     Deaths   Recovered  Vaccination_count  \\\n",
       "0             Africa   6099283.0   155331.0   5258746.0       6.054171e+07   \n",
       "1               Asia  57932797.0   825341.5  54558598.5       2.239446e+09   \n",
       "2  Australia-Oceania     54804.0     1100.0     42371.0       1.169724e+07   \n",
       "3             Europe  49335249.0  1115399.0  27221019.0       5.837162e+08   \n",
       "4      North America  39411641.0   893647.0   3861396.0       4.629701e+08   \n",
       "5      South America  34335597.0  1047201.0  31322224.0       2.261491e+08   \n",
       "\n",
       "   Population  \n",
       "0  1295709695  \n",
       "1  4577654806  \n",
       "2    42071013  \n",
       "3   747771216  \n",
       "4   592617006  \n",
       "5   434264511  "
      ]
     },
     "execution_count": 44,
     "metadata": {},
     "output_type": "execute_result"
    }
   ],
   "source": [
    "region_df = region[['Continent','Cases','Deaths','Recovered','Vaccination_count','Population']]\n",
    "region_df"
   ]
  },
  {
   "cell_type": "code",
   "execution_count": 87,
   "id": "c9a403ab",
   "metadata": {},
   "outputs": [
    {
     "data": {
      "image/png": "[encoded data removed]",
      "text/plain": [
       "<Figure size 432x288 with 1 Axes>"
      ]
     },
     "metadata": {
      "needs_background": "light"
     },
     "output_type": "display_data"
    },
    {
     "data": {
      "text/plain": [
       "<Figure size 1080x720 with 0 Axes>"
      ]
     },
     "metadata": {},
     "output_type": "display_data"
    }
   ],
   "source": [
    "import seaborn as sns\n",
    "\n",
    "pal = sns.color_palette(\"Set1\")\n",
    "plt.stackplot(region_df['Continent'],region_df[\"Cases\"], region_df[\"Recovered\"], labels=['Cases','Recovered'],colors=pal, alpha=0.4)\n",
    "plt.legend(loc='upper right')\n",
    "plt.title(\"Cases and recovered stackplot\")\n",
    "plt.xlabel(\"Continent\")\n",
    "plt.ylabel(\"Count\")\n",
    "plt.xticks(rotation=90)\n",
    "plt.figure(figsize=(15, 10))\n",
    "\n",
    "plt.show()"
   ]
  },
  {
   "cell_type": "markdown",
   "id": "4c1605cc",
   "metadata": {},
   "source": [
    "## Overall Summary by region"
   ]
  },
  {
   "cell_type": "code",
   "execution_count": 89,
   "id": "3d196655",
   "metadata": {},
   "outputs": [
    {
     "data": {
      "text/plain": [
       "<AxesSubplot:title={'center':'Stacked Bar Graph by Continent'}, xlabel='Continent'>"
      ]
     },
     "execution_count": 89,
     "metadata": {},
     "output_type": "execute_result"
    },
    {
     "data": {
      "image/png": "[encoded data removed]",
      "text/plain": [
       "<Figure size 1080x576 with 1 Axes>"
      ]
     },
     "metadata": {
      "needs_background": "light"
     },
     "output_type": "display_data"
    }
   ],
   "source": [
    "\n",
    "CCR = region[['Continent','Cases','Deaths','Recovered']]\n",
    "CCR.plot(x='Continent', kind='bar', stacked=True,\n",
    "        title='Stacked Bar Graph by Continent', figsize=(15, 8))\n",
    "\n"
   ]
  },
  {
   "cell_type": "markdown",
   "id": "8d0fc99c",
   "metadata": {},
   "source": [
    "## Correlation matrix"
   ]
  },
  {
   "cell_type": "code",
   "execution_count": 91,
   "id": "7e67a2d4",
   "metadata": {},
   "outputs": [
    {
     "data": {
      "image/png": "[encoded data removed]",
      "text/plain": [
       "<Figure size 1080x576 with 2 Axes>"
      ]
     },
     "metadata": {
      "needs_background": "light"
     },
     "output_type": "display_data"
    }
   ],
   "source": [
    "plt.figure(figsize=(15, 8))\n",
    "heatmap = sns.heatmap(main_covid_df[['Cases','Deaths','Recovered','Vaccination_count','Population','Unvaccination_count']].corr(), vmin=-1, vmax=1, annot=True)\n",
    "\n",
    "heatmap.set_title('Correlation Heatmap', fontdict={'fontsize':14}, pad=12);"
   ]
  },
  {
   "cell_type": "markdown",
   "id": "5a5c745a",
   "metadata": {},
   "source": [
    "## Top 10 countries with highest death count"
   ]
  },
  {
   "cell_type": "code",
   "execution_count": 92,
   "id": "0d6f122d",
   "metadata": {},
   "outputs": [
    {
     "data": {
      "image/png": "[encoded data removed]",
      "text/plain": [
       "<Figure size 1080x576 with 1 Axes>"
      ]
     },
     "metadata": {
      "needs_background": "light"
     },
     "output_type": "display_data"
    },
    {
     "data": {
      "text/plain": [
       "<Figure size 432x288 with 0 Axes>"
      ]
     },
     "metadata": {},
     "output_type": "display_data"
    }
   ],
   "source": [
    "Covid_Deaths_Country = main_covid_df[['Country',\"Deaths\"]].sort_values(['Deaths'], ascending = False).head(10)\n",
    "multi_plot = Covid_Deaths_Country.plot(kind=\"bar\", figsize=(15,8))\n",
    "\n",
    "# PandasPlot.set_xticklabels() can be used to set the tick labels as well\n",
    "multi_plot.set_xticklabels(Covid_Deaths_Country[\"Country\"], rotation=45)\n",
    "\n",
    "plt.show()\n",
    "plt.tight_layout()"
   ]
  },
  {
   "cell_type": "markdown",
   "id": "fd45d5a0",
   "metadata": {},
   "source": [
    "## Correlation"
   ]
  },
  {
   "cell_type": "code",
   "execution_count": 73,
   "id": "a9653b47",
   "metadata": {},
   "outputs": [
    {
     "name": "stdout",
     "output_type": "stream",
     "text": [
      "The correlation between cases and vaccination is 0.33\n",
      "The p-value for cases and vaccination is 4.631878640166967e-06\n"
     ]
    }
   ],
   "source": [
    "correlation=round(st.pearsonr(main_covid_df['Vaccination_count'],main_covid_df['Cases'])[0],2)\n",
    "p_value = st.pearsonr(main_covid_df['Vaccination_count'],main_covid_df['Cases'])[1]\n",
    "print(f\"The correlation between cases and vaccination is {correlation}\")\n",
    "print(f\"The p-value for cases and vaccination is {p_value}\")"
   ]
  },
  {
   "cell_type": "code",
   "execution_count": 93,
   "id": "e92eb58e",
   "metadata": {},
   "outputs": [
    {
     "data": {
      "image/png": "[encoded data removed]",
      "text/plain": [
       "<Figure size 1080x576 with 1 Axes>"
      ]
     },
     "metadata": {
      "needs_background": "light"
     },
     "output_type": "display_data"
    }
   ],
   "source": [
    "import scipy.stats as st\n",
    "from scipy.stats import linregress\n",
    "\n",
    "x_values = main_covid_df['Vaccination_count']\n",
    "y_values = main_covid_df['Cases']\n",
    "\n",
    "(slope, intercept, rvalue, pvalue, stderr) = linregress(x_values, y_values)\n",
    "y = x_values * slope + intercept\n",
    "fig1, ax1 = plt.subplots(figsize=(15,8))\n",
    "plt.scatter(x_values,y_values)\n",
    "plt.plot(x_values,y,\"r-\")\n",
    "plt.title('Linear Regression Plot of Vaccination count Vs Total Cases')\n",
    "plt.xlabel('Vaccination')\n",
    "plt.ylabel('Total Cases')\n",
    "plt.show()"
   ]
  },
  {
   "cell_type": "code",
   "execution_count": null,
   "id": "377b56c3",
   "metadata": {},
   "outputs": [],
   "source": []
  }
 ],
 "metadata": {
  "kernelspec": {
   "display_name": "Python 3",
   "language": "python",
   "name": "python3"
  },
  "language_info": {
   "codemirror_mode": {
    "name": "ipython",
    "version": 3
   },
   "file_extension": ".py",
   "mimetype": "text/x-python",
   "name": "python",
   "nbconvert_exporter": "python",
   "pygments_lexer": "ipython3",
   "version": "3.8.8"
  }
 },
 "nbformat": 4,
 "nbformat_minor": 5
}
